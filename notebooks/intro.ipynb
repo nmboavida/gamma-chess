{
 "cells": [
  {
   "cell_type": "code",
   "execution_count": 3,
   "id": "79607d54-8925-4ed6-8578-45a24df4c2d0",
   "metadata": {},
   "outputs": [],
   "source": [
    "import chess.pgn\n",
    "import io\n",
    "from typing import List\n",
    "from chess.pgn import Game"
   ]
  },
  {
   "cell_type": "code",
   "execution_count": 4,
   "id": "a693e393-2c50-4e4c-a5f1-571c4791002c",
   "metadata": {},
   "outputs": [],
   "source": [
    "def load_first_chunk_of_pgn(file_path, chunk_size) -> List[Game]:\n",
    "    \"\"\"\n",
    "    Loads the first chunk of games from a PGN file.\n",
    "    \n",
    "    :param file_path: Path to the PGN file.\n",
    "    :param chunk_size: Number of games to load in the chunk.\n",
    "    :return: List of games in the first chunk.\n",
    "    \"\"\"\n",
    "    games: List[Game] = []\n",
    "    with open(file_path) as pgn_file:\n",
    "        for _ in range(chunk_size):\n",
    "            try:\n",
    "                game = chess.pgn.read_game(pgn_file)\n",
    "                if game is None:  # End of file\n",
    "                    break\n",
    "                games.append(game)\n",
    "            except Exception as e:\n",
    "                print(f\"Error reading game: {e}\")\n",
    "                continue\n",
    "    return games"
   ]
  },
  {
   "cell_type": "code",
   "execution_count": 5,
   "id": "5feb3a42-d2de-4d53-9b34-42380ade8896",
   "metadata": {},
   "outputs": [
    {
     "name": "stdout",
     "output_type": "stream",
     "text": [
      "Loaded 100 games in the first chunk\n"
     ]
    }
   ],
   "source": [
    "# Define your file path and chunk size\n",
    "pgn_file_path = \"dataset/lichess_db_standard_rated_2016-05.pgn\"\n",
    "chunk_size = 100  # for example, load the first 100 games\n",
    "\n",
    "# Load the first chunk\n",
    "first_chunk = load_first_chunk_of_pgn(pgn_file_path, chunk_size)\n",
    "print(f\"Loaded {len(first_chunk)} games in the first chunk\")\n"
   ]
  },
  {
   "cell_type": "code",
   "execution_count": 6,
   "id": "381c6daa-8e7a-4e15-bd78-1584a4010d42",
   "metadata": {},
   "outputs": [],
   "source": [
    "game = first_chunk[0]"
   ]
  },
  {
   "cell_type": "code",
   "execution_count": 12,
   "id": "f0f90cf1-2485-45f3-b388-de12c0d991da",
   "metadata": {},
   "outputs": [
    {
     "data": {
      "text/plain": [
       "{'_tag_roster': {'Event': 'Rated Bullet tournament https://lichess.org/tournament/IaRkDsvp',\n",
       "  'Site': 'https://lichess.org/r0cYFhsy',\n",
       "  'Date': '????.??.??',\n",
       "  'Round': '?',\n",
       "  'White': 'GreatGig',\n",
       "  'Black': 'hackattack',\n",
       "  'Result': '0-1'},\n",
       " '_others': {'UTCDate': '2016.04.30',\n",
       "  'UTCTime': '22:00:03',\n",
       "  'WhiteElo': '1777',\n",
       "  'BlackElo': '1809',\n",
       "  'WhiteRatingDiff': '-11',\n",
       "  'BlackRatingDiff': '+11',\n",
       "  'ECO': 'B01',\n",
       "  'Opening': 'Scandinavian Defense: Mieses-Kotroc Variation',\n",
       "  'TimeControl': '60+0',\n",
       "  'Termination': 'Time forfeit'}}"
      ]
     },
     "execution_count": 12,
     "metadata": {},
     "output_type": "execute_result"
    }
   ],
   "source": [
    "vars(game.headers)"
   ]
  },
  {
   "cell_type": "code",
   "execution_count": 8,
   "id": "67bf14f9-1007-4914-8490-3a312cce69d0",
   "metadata": {},
   "outputs": [
    {
     "name": "stdout",
     "output_type": "stream",
     "text": [
      "Moves: e2e4 d7d5 e4d5 d8d5 b1c3 d5d8 d2d4 g8f6 g1f3 c8g4 h2h3 g4f3 g2f3 c7c6 f1g2 b8d7 c1e3 e7e6 d1d2 f6d5 c3d5 c6d5 e1c1 f8e7 c2c3 d8c7 c1b1 e8c8 f3f4 c8b8 h1g1 b8a8 g2h1 g7g6 h3h4 e7h4 f2f3 h4e7 d2c2 d7f6 h1g2 f6h5 g2h3 h5f4 e3f4 c7f4 d1f1 f4d6 g1g4 d8f8 f1g1 f7f5 g4g2 e7f6 g2g3 f8g8 h3f1 g8g7 f1d3 h8g8 c2h2 d6b8 h2g2 b8c8 f3f4 c8c6 g2f2 f6h4 g3g6 h4f2 g6g7 g8g7 g1g7 a7a6 g7g8 a8a7 g8h8 c6d7 h8h7 d7h7\n"
     ]
    }
   ],
   "source": [
    "moves = [move.uci() for move in game.mainline_moves()]\n",
    "print(\"Moves:\", \" \".join(moves))\n"
   ]
  },
  {
   "cell_type": "code",
   "execution_count": 9,
   "id": "b0a9987c-409a-4c0c-b07e-5bf1e76ccff4",
   "metadata": {},
   "outputs": [
    {
     "data": {
      "text/plain": [
       "'0-1'"
      ]
     },
     "execution_count": 9,
     "metadata": {},
     "output_type": "execute_result"
    }
   ],
   "source": [
    "game.headers[\"Result\"]"
   ]
  },
  {
   "cell_type": "code",
   "execution_count": null,
   "id": "d6dff6f8-6b63-4c4e-8496-364a10cbd906",
   "metadata": {},
   "outputs": [],
   "source": []
  }
 ],
 "metadata": {
  "kernelspec": {
   "display_name": "Python 3 (ipykernel)",
   "language": "python",
   "name": "python3"
  },
  "language_info": {
   "codemirror_mode": {
    "name": "ipython",
    "version": 3
   },
   "file_extension": ".py",
   "mimetype": "text/x-python",
   "name": "python",
   "nbconvert_exporter": "python",
   "pygments_lexer": "ipython3",
   "version": "3.11.5"
  }
 },
 "nbformat": 4,
 "nbformat_minor": 5
}
