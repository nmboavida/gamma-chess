{
 "cells": [
  {
   "cell_type": "code",
   "execution_count": 46,
   "id": "79607d54-8925-4ed6-8578-45a24df4c2d0",
   "metadata": {},
   "outputs": [],
   "source": [
    "import chess.pgn\n",
    "import io\n",
    "from typing import List\n",
    "from chess.pgn import Game\n",
    "import numpy as np\n",
    "import torch.nn as nn\n",
    "import torch.nn.functional as F"
   ]
  },
  {
   "cell_type": "code",
   "execution_count": 2,
   "id": "a693e393-2c50-4e4c-a5f1-571c4791002c",
   "metadata": {},
   "outputs": [],
   "source": [
    "def load_first_chunk_of_pgn(file_path, chunk_size) -> List[Game]:\n",
    "    \"\"\"\n",
    "    Loads the first chunk of games from a PGN file.\n",
    "    \n",
    "    :param file_path: Path to the PGN file.\n",
    "    :param chunk_size: Number of games to load in the chunk.\n",
    "    :return: List of games in the first chunk.\n",
    "    \"\"\"\n",
    "    games: List[Game] = []\n",
    "    with open(file_path) as pgn_file:\n",
    "        for _ in range(chunk_size):\n",
    "            try:\n",
    "                game = chess.pgn.read_game(pgn_file)\n",
    "                if game is None:  # End of file\n",
    "                    break\n",
    "                games.append(game)\n",
    "            except Exception as e:\n",
    "                print(f\"Error reading game: {e}\")\n",
    "                continue\n",
    "    return games"
   ]
  },
  {
   "cell_type": "code",
   "execution_count": 4,
   "id": "5feb3a42-d2de-4d53-9b34-42380ade8896",
   "metadata": {},
   "outputs": [
    {
     "name": "stdout",
     "output_type": "stream",
     "text": [
      "Loaded 100 games in the first chunk\n"
     ]
    }
   ],
   "source": [
    "# Define your file path and chunk size\n",
    "pgn_file_path = \"../dataset/lichess_db_standard_rated_2016-05.pgn\"\n",
    "chunk_size = 100  # for example, load the first 100 games\n",
    "\n",
    "# Load the first chunk\n",
    "first_chunk = load_first_chunk_of_pgn(pgn_file_path, chunk_size)\n",
    "print(f\"Loaded {len(first_chunk)} games in the first chunk\")\n"
   ]
  },
  {
   "cell_type": "code",
   "execution_count": 5,
   "id": "381c6daa-8e7a-4e15-bd78-1584a4010d42",
   "metadata": {},
   "outputs": [],
   "source": [
    "game = first_chunk[0]"
   ]
  },
  {
   "cell_type": "code",
   "execution_count": 12,
   "id": "f0f90cf1-2485-45f3-b388-de12c0d991da",
   "metadata": {},
   "outputs": [
    {
     "data": {
      "text/plain": [
       "{'_tag_roster': {'Event': 'Rated Bullet tournament https://lichess.org/tournament/IaRkDsvp',\n",
       "  'Site': 'https://lichess.org/r0cYFhsy',\n",
       "  'Date': '????.??.??',\n",
       "  'Round': '?',\n",
       "  'White': 'GreatGig',\n",
       "  'Black': 'hackattack',\n",
       "  'Result': '0-1'},\n",
       " '_others': {'UTCDate': '2016.04.30',\n",
       "  'UTCTime': '22:00:03',\n",
       "  'WhiteElo': '1777',\n",
       "  'BlackElo': '1809',\n",
       "  'WhiteRatingDiff': '-11',\n",
       "  'BlackRatingDiff': '+11',\n",
       "  'ECO': 'B01',\n",
       "  'Opening': 'Scandinavian Defense: Mieses-Kotroc Variation',\n",
       "  'TimeControl': '60+0',\n",
       "  'Termination': 'Time forfeit'}}"
      ]
     },
     "execution_count": 12,
     "metadata": {},
     "output_type": "execute_result"
    }
   ],
   "source": [
    "vars(game.headers)"
   ]
  },
  {
   "cell_type": "code",
   "execution_count": 6,
   "id": "67bf14f9-1007-4914-8490-3a312cce69d0",
   "metadata": {},
   "outputs": [
    {
     "name": "stdout",
     "output_type": "stream",
     "text": [
      "Moves: e2e4 d7d5 e4d5 d8d5 b1c3 d5d8 d2d4 g8f6 g1f3 c8g4 h2h3 g4f3 g2f3 c7c6 f1g2 b8d7 c1e3 e7e6 d1d2 f6d5 c3d5 c6d5 e1c1 f8e7 c2c3 d8c7 c1b1 e8c8 f3f4 c8b8 h1g1 b8a8 g2h1 g7g6 h3h4 e7h4 f2f3 h4e7 d2c2 d7f6 h1g2 f6h5 g2h3 h5f4 e3f4 c7f4 d1f1 f4d6 g1g4 d8f8 f1g1 f7f5 g4g2 e7f6 g2g3 f8g8 h3f1 g8g7 f1d3 h8g8 c2h2 d6b8 h2g2 b8c8 f3f4 c8c6 g2f2 f6h4 g3g6 h4f2 g6g7 g8g7 g1g7 a7a6 g7g8 a8a7 g8h8 c6d7 h8h7 d7h7\n"
     ]
    }
   ],
   "source": [
    "moves = [move.uci() for move in game.mainline_moves()]\n",
    "print(\"Moveas:\", \" \".join(moves))\n"
   ]
  },
  {
   "cell_type": "code",
   "execution_count": 7,
   "id": "b0a9987c-409a-4c0c-b07e-5bf1e76ccff4",
   "metadata": {},
   "outputs": [
    {
     "data": {
      "text/plain": [
       "'0-1'"
      ]
     },
     "execution_count": 7,
     "metadata": {},
     "output_type": "execute_result"
    }
   ],
   "source": [
    "game.headers[\"Result\"]"
   ]
  },
  {
   "cell_type": "code",
   "execution_count": 135,
   "id": "9c6fa966-0126-4307-9a45-fcbd41f1ef47",
   "metadata": {},
   "outputs": [
    {
     "name": "stdout",
     "output_type": "stream",
     "text": [
      "Moveas: d2d4 g8f6 c1f4 d7d6 e2e3 g7g6 f1d3 f8g7 h2h4 e8g8 h4h5 b8c6 h5g6 f7g6 f4h6 f6g4 h6g7 g8g7 g1f3 h7h5 c2c3 e7e5 d1b3 c6a5 b3a4 c7c6 b1d2 b7b5 a4c2 d8f6 h1f1 e5d4 d2e4 f6e7 c3d4 c8f5 f3g5 a8e8 e1c1 a5c4 d3c4 b5c4 c2c4 f5e4 g5f3 e4f3 g2f3 d6d5 c4d3 g4f6 f1g1 e7f7 g1g5 f6h7 g5g2 f7f5 d3d2 e8c8 d1g1 f8f6 f3f4 c6c5 c1d1 c5d4 d2d4 g7f7 d4a7 f7f8 a7a3 f8g7 d1e2 c8c2 e2f3 f5e4 f3g3 g6g5 g3h2 g5g4 a3b3 e4f3 g2g3 c2f2 g1g2 f2g2 g3g2 f3e3 b3d5 e3f4 h2g1 f6d6 d5b3 d6c6 b3b7 c6c7\n"
     ]
    }
   ],
   "source": [
    "moves = [move.uci() for move in game.mainline_moves()]\n",
    "print(\"Moveas:\", \" \".join(moves))"
   ]
  },
  {
   "cell_type": "markdown",
   "id": "2a995599-f6c7-4131-b37c-f714c4c61d5c",
   "metadata": {},
   "source": [
    "In building the supervised learning part of the model, we'll focus on training a network to predict the next move in a given chess position.\n",
    "\n",
    "We will therefore process the PGN dataset to extract board positions and corresponding moves. This will involve converting chessboard positions into a suitable numerical format for the CNN.\n",
    "\n",
    "We will design a CNN that takes the board position as input. The output layer should predict the probability of each possible move. Since there are a limited number of legal moves in any given position, this becomes a multi-class classification problem.\n",
    "\n",
    "### The Input Layer\n",
    "\n",
    "The input layer should reflect the board layout (8x8 squares with channels representing different pieces).\n",
    "\n",
    "### The Output Layer\n",
    "\n",
    "The output should represent all possible moves. In chess, a common approach is to have a fixed-size array where each entry corresponds to a potential move."
   ]
  },
  {
   "cell_type": "markdown",
   "id": "2066afea-2a9f-4c0a-9323-4dda836cae1e",
   "metadata": {},
   "source": [
    "Our first mission is to construct the input and output tensor:\n",
    "X --> Y\n",
    "\n",
    "Where X, the input is the board layout at every single game state and Y is the corresponding next move (output).\n",
    "\n",
    "This is an example of the data for a given game:\n",
    "\n",
    "```Moves: e2e4 d7d5 e4d5 d8d5 b1c3 d5d8 d2d4 g8f6 g1f3 c8g4 h2h3 g4f3 g2f3 c7c6 f1g2 b8d7 c1e3 e7e6 d1d2 f6d5 c3d5 c6d5 e1c1 f8e7 c2c3 d8c7 c1b1 e8c8 f3f4 c8b8 h1g1 b8a8 g2h1 g7g6 h3h4 e7h4 f2f3 h4e7 d2c2 d7f6 h1g2 f6h5 g2h3 h5f4 e3f4 c7f4 d1f1 f4d6 g1g4 d8f8 f1g1 f7f5 g4g2 e7f6 g2g3 f8g8 h3f1 g8g7 f1d3 h8g8 c2h2 d6b8 h2g2 b8c8 f3f4 c8c6 g2f2 f6h4 g3g6 h4f2 g6g7 g8g7 g1g7 a7a6 g7g8 a8a7 g8h8 c6d7 h8h7 d7h7```\n",
    "\n",
    "To construct the input we will have to recreate the board layout for every single game state."
   ]
  },
  {
   "cell_type": "markdown",
   "id": "f94871b7-08de-40cf-9ccd-4b212703ca0f",
   "metadata": {},
   "source": [
    "### X Tensor (Board State Representation)\n",
    "The X tensor represents the state of the chess board.\n",
    "\n",
    "X will be a 3-dimensional tensor, 2-dimensions representing the layout (8x8) and a third dimension represnting the type of chess piece discriminated by color. The tensor can be represented as follows:\n",
    "\n",
    "$X \\in \\mathbb{R}^{8 \\times 8 \\times 12}$\n",
    "\n",
    "Each element $X_{i,j,k}$ of this tensor can be defined as:\n",
    "\n",
    "$$\\ X_{i,j,k} = \n",
    "   \\begin{cases} \n",
    "   1 & \\text{if piece type } k \\text{ is present at position } (i, j) \\\\\n",
    "   0 & \\text{otherwise}\n",
    "   \\end{cases}\n",
    "\\$$\n",
    "\n",
    "So in essence we're dealing with a 3-dimensional tensor with binary states.\n",
    "\n",
    "### Y Tensor (Next Move Representation)\n",
    "\n",
    "There are 64 squares on a chessboard, so there are 64 possible starting points and 64 possible ending points for each move, leading to 64×64=4096 possible moves (including illegal ones, which the model should learn to never predict).\n",
    "\n",
    "The Y tensor represents the next move for each given game state. We encode each move as a one-hot vector of length 64x64 (representing all possible source and destination squares), the tensor can be represented as:\n",
    "\n",
    "$Y \\in \\{0, 1\\}^{4096}$\n",
    "\n",
    "Each element $Y_{l}$ of this tensor, where $l$ corresponds to a combination of source and destination squares, can be defined as:\n",
    "\n",
    "$$Y_{l} = \n",
    "   \\begin{cases} \n",
    "   1 & \\text{if the move corresponds to the index } l \\\\\n",
    "   0 & \\text{otherwise}\n",
    "   \\end{cases}\n",
    "\\$$\n",
    "\n",
    "In this representation, the index $l$ is calculated based on the source square and the destination square of the move. For instance, if you flatten the 8x8 board into a 64-element array, then a move from square $a$ to square $b$ would correspond to an index $l = 64 \\times a + b$.\n",
    "\n",
    "### Summary\n",
    "- **X Tensor**: Represents the board state with a 3D tensor where the dimensions are board height, board width, and number of piece types.\n",
    "- **Y Tensor**: Represents the move as a one-hot encoded vector in a flattened 2D space of source and destination squares."
   ]
  },
  {
   "cell_type": "code",
   "execution_count": 128,
   "id": "37a41169-eaf2-4134-807f-892d47946b40",
   "metadata": {},
   "outputs": [],
   "source": [
    "import torch\n",
    "import chess\n",
    "from torch.utils.data import Dataset\n",
    "\n",
    "class ChessDataset(Dataset):\n",
    "    def __init__(self, games):\n",
    "        self.positions = np.ndarray\n",
    "        self.moves = np.ndarray\n",
    "        self.process_games(games)\n",
    "\n",
    "    def process_games(self, games: list[list[str]]) -> None:\n",
    "        pos = []\n",
    "        movs = []\n",
    "        \n",
    "        for game in games:\n",
    "            board = chess.Board()\n",
    "            for move_san in game:\n",
    "                try:\n",
    "                    move = board.parse_san(move_san)\n",
    "                    if board.is_legal(move):\n",
    "                        # Add current board state to positions\n",
    "                        pos.append(self.board_to_tensor(board))\n",
    "                        # Make move and add to moves\n",
    "                        movs.append(self.move_to_tensor(move))\n",
    "                        board.push(move)\n",
    "                except ValueError:\n",
    "                    # Handle errors or illegal moves\n",
    "                    break\n",
    "        \n",
    "        self.positions = np.array(pos)\n",
    "        self.moves = np.array(movs)\n",
    "                    \n",
    "    def board_to_tensor(self, board: chess.Board) -> np.ndarray:\n",
    "        # Initialize the tensor\n",
    "        tensor = np.zeros((8, 8, 12))\n",
    "\n",
    "        piece_idx = {'P': 0, 'N': 1, 'B': 2, 'R': 3, 'Q': 4, 'K': 5,\n",
    "                     'p': 6, 'n': 7, 'b': 8, 'r': 9, 'q': 10, 'k': 11}\n",
    "\n",
    "        for square in chess.SQUARES:\n",
    "            piece = board.piece_at(square)\n",
    "            if piece:\n",
    "                # Get the piece type and color\n",
    "                piece_type = piece.symbol()\n",
    "                row, col = divmod(square, 8)\n",
    "                tensor[row, col, piece_idx[piece_type]] = 1\n",
    "\n",
    "        return tensor\n",
    "\n",
    "    def move_to_tensor(_self, move: chess.Move) -> np.ndarray:\n",
    "        # Initialize a one-hot encoded vector of length 4096\n",
    "        one_hot_move = np.zeros(64 * 64, dtype=np.float32)\n",
    "    \n",
    "        # Calculate the index for the one-hot vector\n",
    "        source = move.from_square\n",
    "        destination = move.to_square\n",
    "        # We multiply the source by 64, given that for each source there are 64 possible moves\n",
    "        # (the tensor dimensions assumes that a move can have the same source and destination - though\n",
    "        # the network will learn that those moves are illegal)\n",
    "        index = source * 64 + destination\n",
    "    \n",
    "        # Set the appropriate position to 1\n",
    "        one_hot_move[index] = 1\n",
    "    \n",
    "        return one_hot_move\n",
    "\n",
    "    def __len__(self):\n",
    "        return len(self.positions)\n",
    "\n",
    "    def __getitem__(self, idx):\n",
    "        return self.positions[idx], self.moves[idx]"
   ]
  },
  {
   "cell_type": "code",
   "execution_count": 129,
   "id": "51494be8-5141-4f36-b4f9-76c8175c4c81",
   "metadata": {},
   "outputs": [],
   "source": [
    "# Preprocessing\n",
    "game_moves = []\n",
    "\n",
    "for game in first_chunk:\n",
    "    moves = [move.uci() for move in game.mainline_moves()]\n",
    "\n",
    "    game_moves.append(moves)"
   ]
  },
  {
   "cell_type": "code",
   "execution_count": 130,
   "id": "666bcb07-db30-41d3-addc-33c979c62be5",
   "metadata": {},
   "outputs": [],
   "source": [
    "dataset = ChessDataset(game_moves)"
   ]
  },
  {
   "cell_type": "code",
   "execution_count": 131,
   "id": "d7c02e7a-7a13-459a-95be-8be7324bf9c7",
   "metadata": {},
   "outputs": [],
   "source": [
    "# Checksum\n",
    "for game_moves in dataset.moves:\n",
    "    assert(sum(game_moves) == 1.0)"
   ]
  },
  {
   "cell_type": "code",
   "execution_count": 132,
   "id": "9bd1cc8f-200e-4865-b571-f8ef790f1e41",
   "metadata": {},
   "outputs": [
    {
     "data": {
      "text/plain": [
       "(8, 8, 12)"
      ]
     },
     "execution_count": 132,
     "metadata": {},
     "output_type": "execute_result"
    }
   ],
   "source": [
    "dataset.positions[0].shape"
   ]
  },
  {
   "cell_type": "code",
   "execution_count": 133,
   "id": "f65f6024-bf92-4aef-bb0e-fa6cc647ac79",
   "metadata": {},
   "outputs": [
    {
     "name": "stdout",
     "output_type": "stream",
     "text": [
      "[[0. 0. 0. 0. 0. 0. 0. 0.]\n",
      " [1. 1. 1. 1. 1. 1. 1. 1.]\n",
      " [0. 0. 0. 0. 0. 0. 0. 0.]\n",
      " [0. 0. 0. 0. 0. 0. 0. 0.]\n",
      " [0. 0. 0. 0. 0. 0. 0. 0.]\n",
      " [0. 0. 0. 0. 0. 0. 0. 0.]\n",
      " [0. 0. 0. 0. 0. 0. 0. 0.]\n",
      " [0. 0. 0. 0. 0. 0. 0. 0.]]\n",
      "[[0. 1. 0. 0. 0. 0. 1. 0.]\n",
      " [0. 0. 0. 0. 0. 0. 0. 0.]\n",
      " [0. 0. 0. 0. 0. 0. 0. 0.]\n",
      " [0. 0. 0. 0. 0. 0. 0. 0.]\n",
      " [0. 0. 0. 0. 0. 0. 0. 0.]\n",
      " [0. 0. 0. 0. 0. 0. 0. 0.]\n",
      " [0. 0. 0. 0. 0. 0. 0. 0.]\n",
      " [0. 0. 0. 0. 0. 0. 0. 0.]]\n",
      "[[0. 0. 1. 0. 0. 1. 0. 0.]\n",
      " [0. 0. 0. 0. 0. 0. 0. 0.]\n",
      " [0. 0. 0. 0. 0. 0. 0. 0.]\n",
      " [0. 0. 0. 0. 0. 0. 0. 0.]\n",
      " [0. 0. 0. 0. 0. 0. 0. 0.]\n",
      " [0. 0. 0. 0. 0. 0. 0. 0.]\n",
      " [0. 0. 0. 0. 0. 0. 0. 0.]\n",
      " [0. 0. 0. 0. 0. 0. 0. 0.]]\n",
      "[[1. 0. 0. 0. 0. 0. 0. 1.]\n",
      " [0. 0. 0. 0. 0. 0. 0. 0.]\n",
      " [0. 0. 0. 0. 0. 0. 0. 0.]\n",
      " [0. 0. 0. 0. 0. 0. 0. 0.]\n",
      " [0. 0. 0. 0. 0. 0. 0. 0.]\n",
      " [0. 0. 0. 0. 0. 0. 0. 0.]\n",
      " [0. 0. 0. 0. 0. 0. 0. 0.]\n",
      " [0. 0. 0. 0. 0. 0. 0. 0.]]\n",
      "[[0. 0. 0. 1. 0. 0. 0. 0.]\n",
      " [0. 0. 0. 0. 0. 0. 0. 0.]\n",
      " [0. 0. 0. 0. 0. 0. 0. 0.]\n",
      " [0. 0. 0. 0. 0. 0. 0. 0.]\n",
      " [0. 0. 0. 0. 0. 0. 0. 0.]\n",
      " [0. 0. 0. 0. 0. 0. 0. 0.]\n",
      " [0. 0. 0. 0. 0. 0. 0. 0.]\n",
      " [0. 0. 0. 0. 0. 0. 0. 0.]]\n",
      "[[0. 0. 0. 0. 1. 0. 0. 0.]\n",
      " [0. 0. 0. 0. 0. 0. 0. 0.]\n",
      " [0. 0. 0. 0. 0. 0. 0. 0.]\n",
      " [0. 0. 0. 0. 0. 0. 0. 0.]\n",
      " [0. 0. 0. 0. 0. 0. 0. 0.]\n",
      " [0. 0. 0. 0. 0. 0. 0. 0.]\n",
      " [0. 0. 0. 0. 0. 0. 0. 0.]\n",
      " [0. 0. 0. 0. 0. 0. 0. 0.]]\n",
      "[[0. 0. 0. 0. 0. 0. 0. 0.]\n",
      " [0. 0. 0. 0. 0. 0. 0. 0.]\n",
      " [0. 0. 0. 0. 0. 0. 0. 0.]\n",
      " [0. 0. 0. 0. 0. 0. 0. 0.]\n",
      " [0. 0. 0. 0. 0. 0. 0. 0.]\n",
      " [0. 0. 0. 0. 0. 0. 0. 0.]\n",
      " [1. 1. 1. 1. 1. 1. 1. 1.]\n",
      " [0. 0. 0. 0. 0. 0. 0. 0.]]\n",
      "[[0. 0. 0. 0. 0. 0. 0. 0.]\n",
      " [0. 0. 0. 0. 0. 0. 0. 0.]\n",
      " [0. 0. 0. 0. 0. 0. 0. 0.]\n",
      " [0. 0. 0. 0. 0. 0. 0. 0.]\n",
      " [0. 0. 0. 0. 0. 0. 0. 0.]\n",
      " [0. 0. 0. 0. 0. 0. 0. 0.]\n",
      " [0. 0. 0. 0. 0. 0. 0. 0.]\n",
      " [0. 1. 0. 0. 0. 0. 1. 0.]]\n",
      "[[0. 0. 0. 0. 0. 0. 0. 0.]\n",
      " [0. 0. 0. 0. 0. 0. 0. 0.]\n",
      " [0. 0. 0. 0. 0. 0. 0. 0.]\n",
      " [0. 0. 0. 0. 0. 0. 0. 0.]\n",
      " [0. 0. 0. 0. 0. 0. 0. 0.]\n",
      " [0. 0. 0. 0. 0. 0. 0. 0.]\n",
      " [0. 0. 0. 0. 0. 0. 0. 0.]\n",
      " [0. 0. 1. 0. 0. 1. 0. 0.]]\n",
      "[[0. 0. 0. 0. 0. 0. 0. 0.]\n",
      " [0. 0. 0. 0. 0. 0. 0. 0.]\n",
      " [0. 0. 0. 0. 0. 0. 0. 0.]\n",
      " [0. 0. 0. 0. 0. 0. 0. 0.]\n",
      " [0. 0. 0. 0. 0. 0. 0. 0.]\n",
      " [0. 0. 0. 0. 0. 0. 0. 0.]\n",
      " [0. 0. 0. 0. 0. 0. 0. 0.]\n",
      " [1. 0. 0. 0. 0. 0. 0. 1.]]\n",
      "[[0. 0. 0. 0. 0. 0. 0. 0.]\n",
      " [0. 0. 0. 0. 0. 0. 0. 0.]\n",
      " [0. 0. 0. 0. 0. 0. 0. 0.]\n",
      " [0. 0. 0. 0. 0. 0. 0. 0.]\n",
      " [0. 0. 0. 0. 0. 0. 0. 0.]\n",
      " [0. 0. 0. 0. 0. 0. 0. 0.]\n",
      " [0. 0. 0. 0. 0. 0. 0. 0.]\n",
      " [0. 0. 0. 1. 0. 0. 0. 0.]]\n",
      "[[0. 0. 0. 0. 0. 0. 0. 0.]\n",
      " [0. 0. 0. 0. 0. 0. 0. 0.]\n",
      " [0. 0. 0. 0. 0. 0. 0. 0.]\n",
      " [0. 0. 0. 0. 0. 0. 0. 0.]\n",
      " [0. 0. 0. 0. 0. 0. 0. 0.]\n",
      " [0. 0. 0. 0. 0. 0. 0. 0.]\n",
      " [0. 0. 0. 0. 0. 0. 0. 0.]\n",
      " [0. 0. 0. 0. 1. 0. 0. 0.]]\n"
     ]
    }
   ],
   "source": [
    "## Checking the positions input dataset\n",
    "for game_layout in dataset.positions:\n",
    "    # Ensure the game is a numpy array and then transpose\n",
    "    game_layout_array = np.array(game_layout)\n",
    "    game_layout_transposed = np.transpose(game_layout_array, (2, 0, 1))  # Reorder to (12, 8, 8)\n",
    "    \n",
    "    for piece_type_coordinates in game_layout_transposed:\n",
    "        print(piece_type_coordinates)\n",
    "    break"
   ]
  },
  {
   "cell_type": "code",
   "execution_count": null,
   "id": "1ddd34f8-f941-400d-9a9c-1ca6b909e87c",
   "metadata": {},
   "outputs": [],
   "source": [
    "class ChessCNN(nn.Module):\n",
    "    def __init__(self):\n",
    "        # x = self.conv1(x) # First conv layer\n",
    "        # x = F# .relu(x)\n",
    "        # x = self.conv2(x) # Second conv layer\n",
    "        # x = F.relu(x)\n",
    "        # x = x.view(x.size(0), -1) # Flatten the tensor for the dense layer\n",
    "        # x = self.fc(x) # Dense layer\n",
    "        \n",
    "        super(ChessCNN, self).__init__()\n",
    "        \n",
    "        self.conv1 = nn.Conv2d(12, 64, kernel_size=2, padding=0)\n",
    "        self.conv2 = nn.Conv2d(64, 128, kernel_size=3, padding=1)\n",
    "        self.pool = nn.MaxPool2d(2, 2)\n",
    "        self.fc1 = nn.Linear(128 * 4 * 4, 1024)\n",
    "        self.fc2 = nn.Linear(1024, 4096)\n",
    "\n",
    "    def forward(self, x):\n",
    "        x = F.relu(self.conv1(x))\n",
    "        x = self.pool(F.relu(self.conv2(x)))\n",
    "        x = x.view(-1, 128 * 4 * 4)\n",
    "        x = F.relu(self.fc1(x))\n",
    "        x = self.fc2(x)\n",
    "        return F.softmax(x, dim=1)\n"
   ]
  },
  {
   "cell_type": "code",
   "execution_count": 136,
   "id": "d6e5e019-2e9e-48b9-937d-52906f131c2f",
   "metadata": {},
   "outputs": [],
   "source": [
    "# We do not add padding. This approach respects the inherent structure of the\n",
    "# chessboard and avoids introducing artificial concepts that are not present in\n",
    "# the actual game. It allows the model to focus on learning meaningful spatial\n",
    "# relationships and patterns that are genuinely indicative of chess strategies.\n",
    "\n",
    "# Since we do not add padding, our spatial dimensions will be squashed to\n",
    "# a 7x7 versus the original 8x8 layout\n",
    "conv_layer_1 = nn.Conv2d(12, 64, kernel_size=2, padding=0)"
   ]
  },
  {
   "cell_type": "code",
   "execution_count": 51,
   "id": "ec1a494c-e3ca-4d0f-b50e-9aa4b1b9fcfd",
   "metadata": {},
   "outputs": [],
   "source": [
    "# We then apply a non-linearity which does not change the dimensions of our 7x7x64 tensor\n",
    "relu1 = nn.ReLU()"
   ]
  },
  {
   "cell_type": "code",
   "execution_count": 52,
   "id": "36d3baf6-6f64-42de-ab38-4f34f2cdaeb0",
   "metadata": {},
   "outputs": [],
   "source": [
    "# In the second layer we have a bigger kernel size to capture higher-level patterns\n",
    "# and add padding of 1 to keep the spatial resolution from being further decreased\n",
    "conv_layer_2 = nn.Conv2d(64, 124, kernel_size = 3, padding=1)"
   ]
  },
  {
   "cell_type": "code",
   "execution_count": 53,
   "id": "4deeffd7-cd44-494e-8368-e98e816995d9",
   "metadata": {},
   "outputs": [],
   "source": [
    "# We then apply a non-linearity which does not change the timensions of our 7x7x124 tensor\n",
    "relu2 = nn.ReLU()"
   ]
  },
  {
   "cell_type": "code",
   "execution_count": 163,
   "id": "11952338-2ad8-4b67-8ca3-79921bf7510f",
   "metadata": {},
   "outputs": [],
   "source": [
    "# We now move to the fully connected layer. We do not apply a pooling because there is no\n",
    "# need for downsampling as our tensors are very reasonable in size\n",
    "# Our tensor currently has the following shape: 7x7x124\n",
    "\n",
    "# So we will need to flatten the tensor into one dimensional tensor with a size of: 7 * 7 * 124 = 6076\n",
    "# This hidden layer will output 2048 neurons. We will afterwards test this number to balance it against under and overfitting\n",
    "fc1 = nn.Linear(7 * 7 * 124, 2048)"
   ]
  },
  {
   "cell_type": "code",
   "execution_count": 55,
   "id": "da6c98ce-bffb-48bf-bbf1-a0e25ac18bcc",
   "metadata": {},
   "outputs": [],
   "source": [
    "relu3 = nn.ReLU()"
   ]
  },
  {
   "cell_type": "code",
   "execution_count": 56,
   "id": "1622064e-1134-4b6a-85c4-245e443a8dea",
   "metadata": {},
   "outputs": [],
   "source": [
    "fc2 = nn.Linear(2048, 4096)"
   ]
  },
  {
   "cell_type": "code",
   "execution_count": 117,
   "id": "2543c4f9-124d-4db9-8b92-caa6392ae99f",
   "metadata": {},
   "outputs": [],
   "source": [
    "# We then apply the sofmax activation function to convert the output to a probability distribution over predicted output classes.\n",
    "#F.softmax(x, dim=1)"
   ]
  },
  {
   "cell_type": "code",
   "execution_count": 137,
   "id": "391bae73-dfb4-400b-abee-fdaa6ea914a7",
   "metadata": {},
   "outputs": [
    {
     "data": {
      "text/plain": [
       "(7202, 8, 8, 12)"
      ]
     },
     "execution_count": 137,
     "metadata": {},
     "output_type": "execute_result"
    }
   ],
   "source": [
    "dataset.positions.shape"
   ]
  },
  {
   "cell_type": "markdown",
   "id": "18d7eca8-8140-434d-9845-b61078eb652d",
   "metadata": {},
   "source": [
    "To run your input dataset through the first convolutional layer in PyTorch, we need to make sure that the input tensor is in the correct shape expected by `nn.Conv2d`. The `nn.Conv2d` layer expects the input tensor to have the shape \\([N, C, H, W]\\), where:\n",
    "\n",
    "- \\( N \\) is the batch size,\n",
    "- \\( C \\) is the number of channels,\n",
    "- \\( H \\) is the height of the image (or in your case, the chessboard),\n",
    "- \\( W \\) is the width of the image (or the chessboard).\n",
    "\n",
    "Given your dataset shape \\((7202, 8, 8, 12)\\), it seems you have the channels as the last dimension, but they should be the second dimension for `nn.Conv2d`. You will need to rearrange the dimensions of your input tensor to \\((N, C, H, W)\\), which in your case would be \\((7202, 12, 8, 8)\\)."
   ]
  },
  {
   "cell_type": "code",
   "execution_count": 138,
   "id": "76ec24e9-69cd-4243-91dc-524e06ef6112",
   "metadata": {},
   "outputs": [],
   "source": [
    "# Assuming `data` is your input dataset\n",
    "data = np.transpose(dataset.positions, (0, 3, 1, 2)) "
   ]
  },
  {
   "cell_type": "code",
   "execution_count": 139,
   "id": "734f7788-4925-4054-abf9-f3b648ebb3e5",
   "metadata": {},
   "outputs": [
    {
     "data": {
      "text/plain": [
       "(7202, 12, 8, 8)"
      ]
     },
     "execution_count": 139,
     "metadata": {},
     "output_type": "execute_result"
    }
   ],
   "source": [
    "data.shape"
   ]
  },
  {
   "cell_type": "code",
   "execution_count": 141,
   "id": "2165f386-1860-4b5a-b634-1d300b8ab8c9",
   "metadata": {},
   "outputs": [],
   "source": [
    "data_tensor = torch.tensor(data, dtype=torch.float)  # Ensure the correct data type (float)"
   ]
  },
  {
   "cell_type": "code",
   "execution_count": 142,
   "id": "11287a6c-0363-454c-8f14-758e78fd490a",
   "metadata": {},
   "outputs": [],
   "source": [
    "with torch.no_grad():\n",
    "    # Assuming `data` is a torch tensor and is in the shape (N, C, H, W)\n",
    "    output = conv_layer_1(data_tensor)"
   ]
  },
  {
   "cell_type": "code",
   "execution_count": 144,
   "id": "f7b57488-85ae-420f-bedd-a7a116d3df7d",
   "metadata": {},
   "outputs": [
    {
     "data": {
      "text/plain": [
       "torch.Size([7202, 64, 7, 7])"
      ]
     },
     "execution_count": 144,
     "metadata": {},
     "output_type": "execute_result"
    }
   ],
   "source": [
    "output.shape"
   ]
  },
  {
   "cell_type": "code",
   "execution_count": 147,
   "id": "4ebdd7ae-7fad-4f01-916f-2d68c1039624",
   "metadata": {},
   "outputs": [],
   "source": [
    "output2 = F.relu(output)"
   ]
  },
  {
   "cell_type": "code",
   "execution_count": 149,
   "id": "8d5078da-5fe1-4005-b816-8927e3f22c35",
   "metadata": {},
   "outputs": [
    {
     "data": {
      "text/plain": [
       "torch.Size([7202, 64, 7, 7])"
      ]
     },
     "execution_count": 149,
     "metadata": {},
     "output_type": "execute_result"
    }
   ],
   "source": [
    "output2.shape"
   ]
  },
  {
   "cell_type": "code",
   "execution_count": 150,
   "id": "d36d4eea-ab0f-4a11-86b5-26f990896176",
   "metadata": {},
   "outputs": [],
   "source": [
    "with torch.no_grad():\n",
    "    # Assuming `data` is a torch tensor and is in the shape (N, C, H, W)\n",
    "    output3 = conv_layer_2(output2)"
   ]
  },
  {
   "cell_type": "code",
   "execution_count": 151,
   "id": "47f1e131-3c9d-4f7f-8218-c7ea316516ca",
   "metadata": {},
   "outputs": [
    {
     "data": {
      "text/plain": [
       "torch.Size([7202, 124, 7, 7])"
      ]
     },
     "execution_count": 151,
     "metadata": {},
     "output_type": "execute_result"
    }
   ],
   "source": [
    "output3.shape"
   ]
  },
  {
   "cell_type": "code",
   "execution_count": 152,
   "id": "f5026e34-5ac4-4178-a959-b073ed24304f",
   "metadata": {},
   "outputs": [],
   "source": [
    "output4 = F.relu(output3)"
   ]
  },
  {
   "cell_type": "code",
   "execution_count": 153,
   "id": "417ec936-8ac9-4ac9-8b2f-ad567827ff62",
   "metadata": {},
   "outputs": [
    {
     "data": {
      "text/plain": [
       "torch.Size([7202, 124, 7, 7])"
      ]
     },
     "execution_count": 153,
     "metadata": {},
     "output_type": "execute_result"
    }
   ],
   "source": [
    "output4.shape"
   ]
  },
  {
   "cell_type": "code",
   "execution_count": 161,
   "id": "39563047-e020-468d-a820-147612ea0e84",
   "metadata": {},
   "outputs": [
    {
     "name": "stdout",
     "output_type": "stream",
     "text": [
      "torch.Size([7202, 6076])\n"
     ]
    }
   ],
   "source": [
    "# We now flatten the layer from (124, 7, 7) to: (7 * 7 * 124 = 6076)\n",
    "output5 = output4.view(7202, -1)  # -1 tells PyTorch to infer the correct size\n",
    "\n",
    "# Now, output5 has the shape [7202, 124*7*7]\n",
    "print(output5.shape)"
   ]
  },
  {
   "cell_type": "code",
   "execution_count": 164,
   "id": "8086fd70-0fd6-4b6f-814c-f632308682d1",
   "metadata": {},
   "outputs": [],
   "source": [
    "with torch.no_grad():\n",
    "    output6 = fc1(output5)"
   ]
  },
  {
   "cell_type": "code",
   "execution_count": 166,
   "id": "bc004261-313a-4815-99be-689de9732160",
   "metadata": {},
   "outputs": [
    {
     "data": {
      "text/plain": [
       "torch.Size([7202, 2048])"
      ]
     },
     "execution_count": 166,
     "metadata": {},
     "output_type": "execute_result"
    }
   ],
   "source": [
    "output6.shape"
   ]
  },
  {
   "cell_type": "code",
   "execution_count": 167,
   "id": "e340f155-8098-48e5-bcb1-08eda7838f0f",
   "metadata": {},
   "outputs": [],
   "source": [
    "output7 = F.relu(output6)"
   ]
  },
  {
   "cell_type": "code",
   "execution_count": 168,
   "id": "42727b98-883d-431a-9027-697b5a4e20f6",
   "metadata": {},
   "outputs": [
    {
     "data": {
      "text/plain": [
       "torch.Size([7202, 2048])"
      ]
     },
     "execution_count": 168,
     "metadata": {},
     "output_type": "execute_result"
    }
   ],
   "source": [
    "output7.shape"
   ]
  },
  {
   "cell_type": "code",
   "execution_count": 169,
   "id": "985b5664-158d-4188-8cbc-9cf0dc9bc01f",
   "metadata": {},
   "outputs": [],
   "source": [
    "with torch.no_grad():\n",
    "    output8 = fc2(output7)"
   ]
  },
  {
   "cell_type": "code",
   "execution_count": 171,
   "id": "4d9494fd-adbf-405e-96e9-a03ef629f313",
   "metadata": {},
   "outputs": [
    {
     "data": {
      "text/plain": [
       "torch.Size([7202, 4096])"
      ]
     },
     "execution_count": 171,
     "metadata": {},
     "output_type": "execute_result"
    }
   ],
   "source": [
    "output8.shape"
   ]
  },
  {
   "cell_type": "code",
   "execution_count": 172,
   "id": "ea4212a4-f12e-43e4-9194-c1f40ba10510",
   "metadata": {},
   "outputs": [],
   "source": [
    "# We then apply the sofmax activation function to convert the output to a probability distribution over predicted output classes.\n",
    "output9 = F.softmax(output8, dim=1)"
   ]
  },
  {
   "cell_type": "code",
   "execution_count": 174,
   "id": "231f2894-cb9c-4755-92bb-6a027e442fb6",
   "metadata": {},
   "outputs": [
    {
     "data": {
      "text/plain": [
       "torch.Size([7202, 4096])"
      ]
     },
     "execution_count": 174,
     "metadata": {},
     "output_type": "execute_result"
    }
   ],
   "source": [
    "output9.shape"
   ]
  },
  {
   "cell_type": "markdown",
   "id": "c492bb1f-8a42-4dd8-b8b6-90d6cd52fc18",
   "metadata": {},
   "source": []
  },
  {
   "cell_type": "code",
   "execution_count": null,
   "id": "f6646927-6b2f-41fc-b603-60206f8bbef9",
   "metadata": {},
   "outputs": [],
   "source": []
  }
 ],
 "metadata": {
  "kernelspec": {
   "display_name": "Python 3 (ipykernel)",
   "language": "python",
   "name": "python3"
  },
  "language_info": {
   "codemirror_mode": {
    "name": "ipython",
    "version": 3
   },
   "file_extension": ".py",
   "mimetype": "text/x-python",
   "name": "python",
   "nbconvert_exporter": "python",
   "pygments_lexer": "ipython3",
   "version": "3.11.5"
  }
 },
 "nbformat": 4,
 "nbformat_minor": 5
}
