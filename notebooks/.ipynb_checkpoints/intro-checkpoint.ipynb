{
 "cells": [
  {
   "cell_type": "code",
   "execution_count": 3,
   "id": "79607d54-8925-4ed6-8578-45a24df4c2d0",
   "metadata": {},
   "outputs": [],
   "source": [
    "import chess.pgn\n",
    "import io\n",
    "from typing import List\n",
    "from chess.pgn import Game"
   ]
  },
  {
   "cell_type": "code",
   "execution_count": 4,
   "id": "a693e393-2c50-4e4c-a5f1-571c4791002c",
   "metadata": {},
   "outputs": [],
   "source": [
    "def load_first_chunk_of_pgn(file_path, chunk_size) -> List[Game]:\n",
    "    \"\"\"\n",
    "    Loads the first chunk of games from a PGN file.\n",
    "    \n",
    "    :param file_path: Path to the PGN file.\n",
    "    :param chunk_size: Number of games to load in the chunk.\n",
    "    :return: List of games in the first chunk.\n",
    "    \"\"\"\n",
    "    games: List[Game] = []\n",
    "    with open(file_path) as pgn_file:\n",
    "        for _ in range(chunk_size):\n",
    "            try:\n",
    "                game = chess.pgn.read_game(pgn_file)\n",
    "                if game is None:  # End of file\n",
    "                    break\n",
    "                games.append(game)\n",
    "            except Exception as e:\n",
    "                print(f\"Error reading game: {e}\")\n",
    "                continue\n",
    "    return games"
   ]
  },
  {
   "cell_type": "code",
   "execution_count": 5,
   "id": "5feb3a42-d2de-4d53-9b34-42380ade8896",
   "metadata": {},
   "outputs": [
    {
     "name": "stdout",
     "output_type": "stream",
     "text": [
      "Loaded 100 games in the first chunk\n"
     ]
    }
   ],
   "source": [
    "# Define your file path and chunk size\n",
    "pgn_file_path = \"dataset/lichess_db_standard_rated_2016-05.pgn\"\n",
    "chunk_size = 100  # for example, load the first 100 games\n",
    "\n",
    "# Load the first chunk\n",
    "first_chunk = load_first_chunk_of_pgn(pgn_file_path, chunk_size)\n",
    "print(f\"Loaded {len(first_chunk)} games in the first chunk\")\n"
   ]
  },
  {
   "cell_type": "code",
   "execution_count": 6,
   "id": "381c6daa-8e7a-4e15-bd78-1584a4010d42",
   "metadata": {},
   "outputs": [],
   "source": [
    "game = first_chunk[0]"
   ]
  },
  {
   "cell_type": "code",
   "execution_count": 12,
   "id": "f0f90cf1-2485-45f3-b388-de12c0d991da",
   "metadata": {},
   "outputs": [
    {
     "data": {
      "text/plain": [
       "{'_tag_roster': {'Event': 'Rated Bullet tournament https://lichess.org/tournament/IaRkDsvp',\n",
       "  'Site': 'https://lichess.org/r0cYFhsy',\n",
       "  'Date': '????.??.??',\n",
       "  'Round': '?',\n",
       "  'White': 'GreatGig',\n",
       "  'Black': 'hackattack',\n",
       "  'Result': '0-1'},\n",
       " '_others': {'UTCDate': '2016.04.30',\n",
       "  'UTCTime': '22:00:03',\n",
       "  'WhiteElo': '1777',\n",
       "  'BlackElo': '1809',\n",
       "  'WhiteRatingDiff': '-11',\n",
       "  'BlackRatingDiff': '+11',\n",
       "  'ECO': 'B01',\n",
       "  'Opening': 'Scandinavian Defense: Mieses-Kotroc Variation',\n",
       "  'TimeControl': '60+0',\n",
       "  'Termination': 'Time forfeit'}}"
      ]
     },
     "execution_count": 12,
     "metadata": {},
     "output_type": "execute_result"
    }
   ],
   "source": [
    "vars(game.headers)"
   ]
  },
  {
   "cell_type": "code",
   "execution_count": 8,
   "id": "67bf14f9-1007-4914-8490-3a312cce69d0",
   "metadata": {},
   "outputs": [
    {
     "name": "stdout",
     "output_type": "stream",
     "text": [
      "Moves: e2e4 d7d5 e4d5 d8d5 b1c3 d5d8 d2d4 g8f6 g1f3 c8g4 h2h3 g4f3 g2f3 c7c6 f1g2 b8d7 c1e3 e7e6 d1d2 f6d5 c3d5 c6d5 e1c1 f8e7 c2c3 d8c7 c1b1 e8c8 f3f4 c8b8 h1g1 b8a8 g2h1 g7g6 h3h4 e7h4 f2f3 h4e7 d2c2 d7f6 h1g2 f6h5 g2h3 h5f4 e3f4 c7f4 d1f1 f4d6 g1g4 d8f8 f1g1 f7f5 g4g2 e7f6 g2g3 f8g8 h3f1 g8g7 f1d3 h8g8 c2h2 d6b8 h2g2 b8c8 f3f4 c8c6 g2f2 f6h4 g3g6 h4f2 g6g7 g8g7 g1g7 a7a6 g7g8 a8a7 g8h8 c6d7 h8h7 d7h7\n"
     ]
    }
   ],
   "source": [
    "moves = [move.uci() for move in game.mainline_moves()]\n",
    "print(\"Moves:\", \" \".join(moves))\n"
   ]
  },
  {
   "cell_type": "code",
   "execution_count": 9,
   "id": "b0a9987c-409a-4c0c-b07e-5bf1e76ccff4",
   "metadata": {},
   "outputs": [
    {
     "data": {
      "text/plain": [
       "'0-1'"
      ]
     },
     "execution_count": 9,
     "metadata": {},
     "output_type": "execute_result"
    }
   ],
   "source": [
    "game.headers[\"Result\"]"
   ]
  },
  {
   "cell_type": "markdown",
   "id": "2a995599-f6c7-4131-b37c-f714c4c61d5c",
   "metadata": {},
   "source": [
    "In building the supervised learning part of the model, we'll focus on training a network to predict the next move in a given chess position.\n",
    "\n",
    "We will therefore process the PGN dataset to extract board positions and corresponding moves. This will involve converting chessboard positions into a suitable numerical format for the CNN.\n",
    "\n",
    "We will design a CNN that takes the board position as input. The output layer should predict the probability of each possible move. Since there are a limited number of legal moves in any given position, this becomes a multi-class classification problem.\n",
    "\n",
    "### The Input Layer\n",
    "\n",
    "The input layer should reflect the board layout (8x8 squares with channels representing different pieces).\n",
    "\n",
    "### The Output Layer\n",
    "\n",
    "The output should represent all possible moves. In chess, a common approach is to have a fixed-size array where each entry corresponds to a potential move."
   ]
  },
  {
   "cell_type": "markdown",
   "id": "2066afea-2a9f-4c0a-9323-4dda836cae1e",
   "metadata": {},
   "source": [
    "Our first mission is to construct the input and output tensor:\n",
    "X --> Y\n",
    "\n",
    "Where X, the input is the board layout at every single game state and Y is the corresponding next move (output).\n",
    "\n",
    "This is an example of the data for a given game:\n",
    "\n",
    "```Moves: e2e4 d7d5 e4d5 d8d5 b1c3 d5d8 d2d4 g8f6 g1f3 c8g4 h2h3 g4f3 g2f3 c7c6 f1g2 b8d7 c1e3 e7e6 d1d2 f6d5 c3d5 c6d5 e1c1 f8e7 c2c3 d8c7 c1b1 e8c8 f3f4 c8b8 h1g1 b8a8 g2h1 g7g6 h3h4 e7h4 f2f3 h4e7 d2c2 d7f6 h1g2 f6h5 g2h3 h5f4 e3f4 c7f4 d1f1 f4d6 g1g4 d8f8 f1g1 f7f5 g4g2 e7f6 g2g3 f8g8 h3f1 g8g7 f1d3 h8g8 c2h2 d6b8 h2g2 b8c8 f3f4 c8c6 g2f2 f6h4 g3g6 h4f2 g6g7 g8g7 g1g7 a7a6 g7g8 a8a7 g8h8 c6d7 h8h7 d7h7```\n",
    "\n",
    "To construct the input we will have to recreate the board layout for every single game state."
   ]
  },
  {
   "cell_type": "markdown",
   "id": "f94871b7-08de-40cf-9ccd-4b212703ca0f",
   "metadata": {},
   "source": [
    "### X Tensor (Board State Representation)\n",
    "The X tensor represents the state of the chess board.\n",
    "\n",
    "X will be a 3-dimensional tensor, 2-dimensions representing the layout (8x8) and a third dimension represnting the type of chess piece discriminated by color. The tensor can be represented as follows:\n",
    "\n",
    "$X \\in \\mathbb{R}^{8 \\times 8 \\times 12}$\n",
    "\n",
    "Each element $X_{i,j,k}$ of this tensor can be defined as:\n",
    "\n",
    "$$\\ X_{i,j,k} = \n",
    "   \\begin{cases} \n",
    "   1 & \\text{if piece type } k \\text{ is present at position } (i, j) \\\\\n",
    "   0 & \\text{otherwise}\n",
    "   \\end{cases}\n",
    "\\$$\n",
    "\n",
    "So in essence we're dealing with a 3-dimensional tensor with binary states.\n",
    "\n",
    "### Y Tensor (Next Move Representation)\n",
    "\n",
    "There are 64 squares on a chessboard, so there are 64 possible starting points and 64 possible ending points for each move, leading to 64×64=4096 possible moves (including illegal ones, which the model should learn to never predict).\n",
    "\n",
    "The Y tensor represents the next move for each given game state. We encode each move as a one-hot vector of length 64x64 (representing all possible source and destination squares), the tensor can be represented as:\n",
    "\n",
    "$Y \\in \\{0, 1\\}^{4096}$\n",
    "\n",
    "Each element $Y_{l}$ of this tensor, where $l$ corresponds to a combination of source and destination squares, can be defined as:\n",
    "\n",
    "$$Y_{l} = \n",
    "   \\begin{cases} \n",
    "   1 & \\text{if the move corresponds to the index } l \\\\\n",
    "   0 & \\text{otherwise}\n",
    "   \\end{cases}\n",
    "\\$$\n",
    "\n",
    "In this representation, the index $l$ is calculated based on the source square and the destination square of the move. For instance, if you flatten the 8x8 board into a 64-element array, then a move from square $a$ to square $b$ would correspond to an index $l = 64 \\times a + b$.\n",
    "\n",
    "### Summary\n",
    "- **X Tensor**: Represents the board state with a 3D tensor where the dimensions are board height, board width, and number of piece types.\n",
    "- **Y Tensor**: Represents the move as a one-hot encoded vector in a flattened 2D space of source and destination squares."
   ]
  },
  {
   "cell_type": "code",
   "execution_count": 13,
   "id": "37a41169-eaf2-4134-807f-892d47946b40",
   "metadata": {},
   "outputs": [
    {
     "name": "stderr",
     "output_type": "stream",
     "text": [
      "/Users/nuno/Library/Caches/pypoetry/virtualenvs/gammax-NkQe2Tz_-py3.11/lib/python3.11/site-packages/torch/nn/modules/transformer.py:20: UserWarning: Failed to initialize NumPy: No module named 'numpy' (Triggered internally at /Users/runner/work/pytorch/pytorch/pytorch/torch/csrc/utils/tensor_numpy.cpp:84.)\n",
      "  device: torch.device = torch.device(torch._C._get_default_device()),  # torch.device('cpu'),\n"
     ]
    },
    {
     "ename": "InvalidMoveError",
     "evalue": "invalid san: 'g1f3...'",
     "output_type": "error",
     "traceback": [
      "\u001b[0;31m---------------------------------------------------------------------------\u001b[0m",
      "\u001b[0;31mInvalidMoveError\u001b[0m                          Traceback (most recent call last)",
      "Cell \u001b[0;32mIn[13], line 38\u001b[0m\n\u001b[1;32m     36\u001b[0m \u001b[38;5;66;03m# Example usage\u001b[39;00m\n\u001b[1;32m     37\u001b[0m games \u001b[38;5;241m=\u001b[39m [\u001b[38;5;124m\"\u001b[39m\u001b[38;5;124me2e4 e7e5 g1f3...\u001b[39m\u001b[38;5;124m\"\u001b[39m, \u001b[38;5;124m\"\u001b[39m\u001b[38;5;124md2d4 d7d5 c2c4...\u001b[39m\u001b[38;5;124m\"\u001b[39m]  \u001b[38;5;66;03m# list of game move sequences\u001b[39;00m\n\u001b[0;32m---> 38\u001b[0m dataset \u001b[38;5;241m=\u001b[39m \u001b[43mChessDataset\u001b[49m\u001b[43m(\u001b[49m\u001b[43mgames\u001b[49m\u001b[43m)\u001b[49m\n",
      "Cell \u001b[0;32mIn[13], line 9\u001b[0m, in \u001b[0;36mChessDataset.__init__\u001b[0;34m(self, games)\u001b[0m\n\u001b[1;32m      7\u001b[0m \u001b[38;5;28mself\u001b[39m\u001b[38;5;241m.\u001b[39mpositions \u001b[38;5;241m=\u001b[39m []\n\u001b[1;32m      8\u001b[0m \u001b[38;5;28mself\u001b[39m\u001b[38;5;241m.\u001b[39mmoves \u001b[38;5;241m=\u001b[39m []\n\u001b[0;32m----> 9\u001b[0m \u001b[38;5;28;43mself\u001b[39;49m\u001b[38;5;241;43m.\u001b[39;49m\u001b[43mprocess_games\u001b[49m\u001b[43m(\u001b[49m\u001b[43mgames\u001b[49m\u001b[43m)\u001b[49m\n",
      "Cell \u001b[0;32mIn[13], line 18\u001b[0m, in \u001b[0;36mChessDataset.process_games\u001b[0;34m(self, games)\u001b[0m\n\u001b[1;32m     16\u001b[0m \u001b[38;5;28mself\u001b[39m\u001b[38;5;241m.\u001b[39mpositions\u001b[38;5;241m.\u001b[39mappend(\u001b[38;5;28mself\u001b[39m\u001b[38;5;241m.\u001b[39mboard_to_tensor(board))\n\u001b[1;32m     17\u001b[0m \u001b[38;5;66;03m# Make move and add to moves\u001b[39;00m\n\u001b[0;32m---> 18\u001b[0m chess_move \u001b[38;5;241m=\u001b[39m \u001b[43mboard\u001b[49m\u001b[38;5;241;43m.\u001b[39;49m\u001b[43mparse_san\u001b[49m\u001b[43m(\u001b[49m\u001b[43mmove\u001b[49m\u001b[43m)\u001b[49m\n\u001b[1;32m     19\u001b[0m \u001b[38;5;28mself\u001b[39m\u001b[38;5;241m.\u001b[39mmoves\u001b[38;5;241m.\u001b[39mappend(\u001b[38;5;28mself\u001b[39m\u001b[38;5;241m.\u001b[39mmove_to_tensor(chess_move))\n\u001b[1;32m     20\u001b[0m board\u001b[38;5;241m.\u001b[39mpush(chess_move)\n",
      "File \u001b[0;32m~/Library/Caches/pypoetry/virtualenvs/gammax-NkQe2Tz_-py3.11/lib/python3.11/site-packages/chess/__init__.py:3037\u001b[0m, in \u001b[0;36mBoard.parse_san\u001b[0;34m(self, san)\u001b[0m\n\u001b[1;32m   3035\u001b[0m         \u001b[38;5;28;01mraise\u001b[39;00m InvalidMoveError(\u001b[38;5;124mf\u001b[39m\u001b[38;5;124m\"\u001b[39m\u001b[38;5;124munsupported multi-leg move: \u001b[39m\u001b[38;5;132;01m{\u001b[39;00msan\u001b[38;5;132;01m!r}\u001b[39;00m\u001b[38;5;124m\"\u001b[39m)\n\u001b[1;32m   3036\u001b[0m     \u001b[38;5;28;01melse\u001b[39;00m:\n\u001b[0;32m-> 3037\u001b[0m         \u001b[38;5;28;01mraise\u001b[39;00m InvalidMoveError(\u001b[38;5;124mf\u001b[39m\u001b[38;5;124m\"\u001b[39m\u001b[38;5;124minvalid san: \u001b[39m\u001b[38;5;132;01m{\u001b[39;00msan\u001b[38;5;132;01m!r}\u001b[39;00m\u001b[38;5;124m\"\u001b[39m)\n\u001b[1;32m   3039\u001b[0m \u001b[38;5;66;03m# Get target square. Mask our own pieces to exclude castling moves.\u001b[39;00m\n\u001b[1;32m   3040\u001b[0m to_square \u001b[38;5;241m=\u001b[39m SQUARE_NAMES\u001b[38;5;241m.\u001b[39mindex(match\u001b[38;5;241m.\u001b[39mgroup(\u001b[38;5;241m4\u001b[39m))\n",
      "\u001b[0;31mInvalidMoveError\u001b[0m: invalid san: 'g1f3...'"
     ]
    }
   ],
   "source": [
    "import torch\n",
    "import chess\n",
    "from torch.utils.data import Dataset\n",
    "\n",
    "class ChessDataset(Dataset):\n",
    "    def __init__(self, games):\n",
    "        self.positions = []\n",
    "        self.moves = []\n",
    "        self.process_games(games)\n",
    "\n",
    "    def process_games(self, games):\n",
    "        for game in games:\n",
    "            board = chess.Board()\n",
    "            for move in game.split():\n",
    "                # Add current board state to positions\n",
    "                self.positions.append(self.board_to_tensor(board))\n",
    "                # Make move and add to moves\n",
    "                chess_move = board.parse_san(move)\n",
    "                self.moves.append(self.move_to_tensor(chess_move))\n",
    "                board.push(chess_move)\n",
    "\n",
    "    def board_to_tensor(self, board):\n",
    "        # Convert board to 8x8xN tensor\n",
    "        pass\n",
    "\n",
    "    def move_to_tensor(self, move):\n",
    "        # Convert move to tensor (e.g., one-hot encoding)\n",
    "        pass\n",
    "\n",
    "    def __len__(self):\n",
    "        return len(self.positions)\n",
    "\n",
    "    def __getitem__(self, idx):\n",
    "        return self.positions[idx], self.moves[idx]\n",
    "\n",
    "# Example usage - TODO\n",
    "games = [\"e2e4 e7e5 g1f3...\", \"d2d4 d7d5 c2c4...\"]  # list of game move sequences\n",
    "dataset = ChessDataset(games)\n"
   ]
  },
  {
   "cell_type": "code",
   "execution_count": null,
   "id": "666bcb07-db30-41d3-addc-33c979c62be5",
   "metadata": {},
   "outputs": [],
   "source": []
  }
 ],
 "metadata": {
  "kernelspec": {
   "display_name": "Python 3 (ipykernel)",
   "language": "python",
   "name": "python3"
  },
  "language_info": {
   "codemirror_mode": {
    "name": "ipython",
    "version": 3
   },
   "file_extension": ".py",
   "mimetype": "text/x-python",
   "name": "python",
   "nbconvert_exporter": "python",
   "pygments_lexer": "ipython3",
   "version": "3.11.5"
  }
 },
 "nbformat": 4,
 "nbformat_minor": 5
}
