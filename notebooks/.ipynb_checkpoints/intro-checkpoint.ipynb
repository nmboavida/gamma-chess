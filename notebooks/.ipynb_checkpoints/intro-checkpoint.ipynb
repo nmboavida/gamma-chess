{
 "cells": [
  {
   "cell_type": "code",
   "execution_count": 46,
   "id": "79607d54-8925-4ed6-8578-45a24df4c2d0",
   "metadata": {},
   "outputs": [],
   "source": [
    "import chess.pgn\n",
    "import io\n",
    "from typing import List\n",
    "from chess.pgn import Game\n",
    "import numpy as np\n",
    "import torch.nn as nn\n",
    "import torch.nn.functional as F"
   ]
  },
  {
   "cell_type": "code",
   "execution_count": 2,
   "id": "a693e393-2c50-4e4c-a5f1-571c4791002c",
   "metadata": {},
   "outputs": [],
   "source": [
    "def load_first_chunk_of_pgn(file_path, chunk_size) -> List[Game]:\n",
    "    \"\"\"\n",
    "    Loads the first chunk of games from a PGN file.\n",
    "    \n",
    "    :param file_path: Path to the PGN file.\n",
    "    :param chunk_size: Number of games to load in the chunk.\n",
    "    :return: List of games in the first chunk.\n",
    "    \"\"\"\n",
    "    games: List[Game] = []\n",
    "    with open(file_path) as pgn_file:\n",
    "        for _ in range(chunk_size):\n",
    "            try:\n",
    "                game = chess.pgn.read_game(pgn_file)\n",
    "                if game is None:  # End of file\n",
    "                    break\n",
    "                games.append(game)\n",
    "            except Exception as e:\n",
    "                print(f\"Error reading game: {e}\")\n",
    "                continue\n",
    "    return games"
   ]
  },
  {
   "cell_type": "code",
   "execution_count": 4,
   "id": "5feb3a42-d2de-4d53-9b34-42380ade8896",
   "metadata": {},
   "outputs": [
    {
     "name": "stdout",
     "output_type": "stream",
     "text": [
      "Loaded 100 games in the first chunk\n"
     ]
    }
   ],
   "source": [
    "# Define your file path and chunk size\n",
    "pgn_file_path = \"../dataset/lichess_db_standard_rated_2016-05.pgn\"\n",
    "chunk_size = 100  # for example, load the first 100 games\n",
    "\n",
    "# Load the first chunk\n",
    "first_chunk = load_first_chunk_of_pgn(pgn_file_path, chunk_size)\n",
    "print(f\"Loaded {len(first_chunk)} games in the first chunk\")\n"
   ]
  },
  {
   "cell_type": "code",
   "execution_count": 5,
   "id": "381c6daa-8e7a-4e15-bd78-1584a4010d42",
   "metadata": {},
   "outputs": [],
   "source": [
    "game = first_chunk[0]"
   ]
  },
  {
   "cell_type": "code",
   "execution_count": 12,
   "id": "f0f90cf1-2485-45f3-b388-de12c0d991da",
   "metadata": {},
   "outputs": [
    {
     "data": {
      "text/plain": [
       "{'_tag_roster': {'Event': 'Rated Bullet tournament https://lichess.org/tournament/IaRkDsvp',\n",
       "  'Site': 'https://lichess.org/r0cYFhsy',\n",
       "  'Date': '????.??.??',\n",
       "  'Round': '?',\n",
       "  'White': 'GreatGig',\n",
       "  'Black': 'hackattack',\n",
       "  'Result': '0-1'},\n",
       " '_others': {'UTCDate': '2016.04.30',\n",
       "  'UTCTime': '22:00:03',\n",
       "  'WhiteElo': '1777',\n",
       "  'BlackElo': '1809',\n",
       "  'WhiteRatingDiff': '-11',\n",
       "  'BlackRatingDiff': '+11',\n",
       "  'ECO': 'B01',\n",
       "  'Opening': 'Scandinavian Defense: Mieses-Kotroc Variation',\n",
       "  'TimeControl': '60+0',\n",
       "  'Termination': 'Time forfeit'}}"
      ]
     },
     "execution_count": 12,
     "metadata": {},
     "output_type": "execute_result"
    }
   ],
   "source": [
    "vars(game.headers)"
   ]
  },
  {
   "cell_type": "code",
   "execution_count": 6,
   "id": "67bf14f9-1007-4914-8490-3a312cce69d0",
   "metadata": {},
   "outputs": [
    {
     "name": "stdout",
     "output_type": "stream",
     "text": [
      "Moves: e2e4 d7d5 e4d5 d8d5 b1c3 d5d8 d2d4 g8f6 g1f3 c8g4 h2h3 g4f3 g2f3 c7c6 f1g2 b8d7 c1e3 e7e6 d1d2 f6d5 c3d5 c6d5 e1c1 f8e7 c2c3 d8c7 c1b1 e8c8 f3f4 c8b8 h1g1 b8a8 g2h1 g7g6 h3h4 e7h4 f2f3 h4e7 d2c2 d7f6 h1g2 f6h5 g2h3 h5f4 e3f4 c7f4 d1f1 f4d6 g1g4 d8f8 f1g1 f7f5 g4g2 e7f6 g2g3 f8g8 h3f1 g8g7 f1d3 h8g8 c2h2 d6b8 h2g2 b8c8 f3f4 c8c6 g2f2 f6h4 g3g6 h4f2 g6g7 g8g7 g1g7 a7a6 g7g8 a8a7 g8h8 c6d7 h8h7 d7h7\n"
     ]
    }
   ],
   "source": [
    "moves = [move.uci() for move in game.mainline_moves()]\n",
    "print(\"Moveas:\", \" \".join(moves))\n"
   ]
  },
  {
   "cell_type": "code",
   "execution_count": 7,
   "id": "b0a9987c-409a-4c0c-b07e-5bf1e76ccff4",
   "metadata": {},
   "outputs": [
    {
     "data": {
      "text/plain": [
       "'0-1'"
      ]
     },
     "execution_count": 7,
     "metadata": {},
     "output_type": "execute_result"
    }
   ],
   "source": [
    "game.headers[\"Result\"]"
   ]
  },
  {
   "cell_type": "markdown",
   "id": "2a995599-f6c7-4131-b37c-f714c4c61d5c",
   "metadata": {},
   "source": [
    "In building the supervised learning part of the model, we'll focus on training a network to predict the next move in a given chess position.\n",
    "\n",
    "We will therefore process the PGN dataset to extract board positions and corresponding moves. This will involve converting chessboard positions into a suitable numerical format for the CNN.\n",
    "\n",
    "We will design a CNN that takes the board position as input. The output layer should predict the probability of each possible move. Since there are a limited number of legal moves in any given position, this becomes a multi-class classification problem.\n",
    "\n",
    "### The Input Layer\n",
    "\n",
    "The input layer should reflect the board layout (8x8 squares with channels representing different pieces).\n",
    "\n",
    "### The Output Layer\n",
    "\n",
    "The output should represent all possible moves. In chess, a common approach is to have a fixed-size array where each entry corresponds to a potential move."
   ]
  },
  {
   "cell_type": "markdown",
   "id": "2066afea-2a9f-4c0a-9323-4dda836cae1e",
   "metadata": {},
   "source": [
    "Our first mission is to construct the input and output tensor:\n",
    "X --> Y\n",
    "\n",
    "Where X, the input is the board layout at every single game state and Y is the corresponding next move (output).\n",
    "\n",
    "This is an example of the data for a given game:\n",
    "\n",
    "```Moves: e2e4 d7d5 e4d5 d8d5 b1c3 d5d8 d2d4 g8f6 g1f3 c8g4 h2h3 g4f3 g2f3 c7c6 f1g2 b8d7 c1e3 e7e6 d1d2 f6d5 c3d5 c6d5 e1c1 f8e7 c2c3 d8c7 c1b1 e8c8 f3f4 c8b8 h1g1 b8a8 g2h1 g7g6 h3h4 e7h4 f2f3 h4e7 d2c2 d7f6 h1g2 f6h5 g2h3 h5f4 e3f4 c7f4 d1f1 f4d6 g1g4 d8f8 f1g1 f7f5 g4g2 e7f6 g2g3 f8g8 h3f1 g8g7 f1d3 h8g8 c2h2 d6b8 h2g2 b8c8 f3f4 c8c6 g2f2 f6h4 g3g6 h4f2 g6g7 g8g7 g1g7 a7a6 g7g8 a8a7 g8h8 c6d7 h8h7 d7h7```\n",
    "\n",
    "To construct the input we will have to recreate the board layout for every single game state."
   ]
  },
  {
   "cell_type": "markdown",
   "id": "f94871b7-08de-40cf-9ccd-4b212703ca0f",
   "metadata": {},
   "source": [
    "### X Tensor (Board State Representation)\n",
    "The X tensor represents the state of the chess board.\n",
    "\n",
    "X will be a 3-dimensional tensor, 2-dimensions representing the layout (8x8) and a third dimension represnting the type of chess piece discriminated by color. The tensor can be represented as follows:\n",
    "\n",
    "$X \\in \\mathbb{R}^{8 \\times 8 \\times 12}$\n",
    "\n",
    "Each element $X_{i,j,k}$ of this tensor can be defined as:\n",
    "\n",
    "$$\\ X_{i,j,k} = \n",
    "   \\begin{cases} \n",
    "   1 & \\text{if piece type } k \\text{ is present at position } (i, j) \\\\\n",
    "   0 & \\text{otherwise}\n",
    "   \\end{cases}\n",
    "\\$$\n",
    "\n",
    "So in essence we're dealing with a 3-dimensional tensor with binary states.\n",
    "\n",
    "### Y Tensor (Next Move Representation)\n",
    "\n",
    "There are 64 squares on a chessboard, so there are 64 possible starting points and 64 possible ending points for each move, leading to 64×64=4096 possible moves (including illegal ones, which the model should learn to never predict).\n",
    "\n",
    "The Y tensor represents the next move for each given game state. We encode each move as a one-hot vector of length 64x64 (representing all possible source and destination squares), the tensor can be represented as:\n",
    "\n",
    "$Y \\in \\{0, 1\\}^{4096}$\n",
    "\n",
    "Each element $Y_{l}$ of this tensor, where $l$ corresponds to a combination of source and destination squares, can be defined as:\n",
    "\n",
    "$$Y_{l} = \n",
    "   \\begin{cases} \n",
    "   1 & \\text{if the move corresponds to the index } l \\\\\n",
    "   0 & \\text{otherwise}\n",
    "   \\end{cases}\n",
    "\\$$\n",
    "\n",
    "In this representation, the index $l$ is calculated based on the source square and the destination square of the move. For instance, if you flatten the 8x8 board into a 64-element array, then a move from square $a$ to square $b$ would correspond to an index $l = 64 \\times a + b$.\n",
    "\n",
    "### Summary\n",
    "- **X Tensor**: Represents the board state with a 3D tensor where the dimensions are board height, board width, and number of piece types.\n",
    "- **Y Tensor**: Represents the move as a one-hot encoded vector in a flattened 2D space of source and destination squares."
   ]
  },
  {
   "cell_type": "code",
   "execution_count": 42,
   "id": "37a41169-eaf2-4134-807f-892d47946b40",
   "metadata": {},
   "outputs": [],
   "source": [
    "import torch\n",
    "import chess\n",
    "from torch.utils.data import Dataset\n",
    "\n",
    "class ChessDataset(Dataset):\n",
    "    def __init__(self, games):\n",
    "        self.positions = []\n",
    "        self.moves = []\n",
    "        self.process_games(games)\n",
    "\n",
    "    def process_games(self, games: list[str]) -> None:\n",
    "        for game in games:\n",
    "            board = chess.Board()\n",
    "            for move_san in game.split():\n",
    "                try:\n",
    "                    move = board.parse_san(move_san)\n",
    "                    if board.is_legal(move):\n",
    "                        # Add current board state to positions\n",
    "                        self.positions.append(self.board_to_tensor(board))\n",
    "                        # Make move and add to moves\n",
    "                        self.moves.append(move_to_tensor(move))\n",
    "                        board.push(move)\n",
    "                except ValueError:\n",
    "                    # Handle errors or illegal moves\n",
    "                    break\n",
    "                    \n",
    "    def board_to_tensor(self, board: chess.Board) -> np.ndarray:\n",
    "        # Initialize the tensor\n",
    "        tensor = np.zeros((8, 8, 12))\n",
    "\n",
    "        piece_idx = {'P': 0, 'N': 1, 'B': 2, 'R': 3, 'Q': 4, 'K': 5,\n",
    "                     'p': 6, 'n': 7, 'b': 8, 'r': 9, 'q': 10, 'k': 11}\n",
    "\n",
    "        for square in chess.SQUARES:\n",
    "            piece = board.piece_at(square)\n",
    "            if piece:\n",
    "                # Get the piece type and color\n",
    "                piece_type = piece.symbol()\n",
    "                row, col = divmod(square, 8)\n",
    "                tensor[row, col, piece_idx[piece_type]] = 1\n",
    "\n",
    "        return tensor\n",
    "\n",
    "    def move_to_tensor(move: chess.Move) -> np.ndarray:\n",
    "        # Initialize a one-hot encoded vector of length 4096\n",
    "        one_hot_move = np.zeros(64 * 64, dtype=np.float32)\n",
    "    \n",
    "        # Calculate the index for the one-hot vector\n",
    "        source = move.from_square\n",
    "        destination = move.to_square\n",
    "        # We multiply the source by 64, given that for each source there are 64 possible moves\n",
    "        # (the tensor dimensions assumes that a move can have the same source and destination - though\n",
    "        # the network will learn that those moves are illegal)\n",
    "        index = source * 64 + destination\n",
    "    \n",
    "        # Set the appropriate position to 1\n",
    "        one_hot_move[index] = 1\n",
    "    \n",
    "        return one_hot_move\n",
    "\n",
    "    def __len__(self):\n",
    "        return len(self.positions)\n",
    "\n",
    "    def __getitem__(self, idx):\n",
    "        return self.positions[idx], self.moves[idx]"
   ]
  },
  {
   "cell_type": "code",
   "execution_count": null,
   "id": "666bcb07-db30-41d3-addc-33c979c62be5",
   "metadata": {},
   "outputs": [],
   "source": [
    "# Example usage - TODO\n",
    "games = [\"e2e4 e7e5 g1f3...\", \"d2d4 d7d5 c2c4...\"]  # list of game move sequences\n",
    "dataset = ChessDataset(games)"
   ]
  },
  {
   "cell_type": "code",
   "execution_count": 10,
   "id": "9c6fa966-0126-4307-9a45-fcbd41f1ef47",
   "metadata": {},
   "outputs": [
    {
     "name": "stdout",
     "output_type": "stream",
     "text": [
      "Moveas: e2e4 d7d5 e4d5 d8d5 b1c3 d5d8 d2d4 g8f6 g1f3 c8g4 h2h3 g4f3 g2f3 c7c6 f1g2 b8d7 c1e3 e7e6 d1d2 f6d5 c3d5 c6d5 e1c1 f8e7 c2c3 d8c7 c1b1 e8c8 f3f4 c8b8 h1g1 b8a8 g2h1 g7g6 h3h4 e7h4 f2f3 h4e7 d2c2 d7f6 h1g2 f6h5 g2h3 h5f4 e3f4 c7f4 d1f1 f4d6 g1g4 d8f8 f1g1 f7f5 g4g2 e7f6 g2g3 f8g8 h3f1 g8g7 f1d3 h8g8 c2h2 d6b8 h2g2 b8c8 f3f4 c8c6 g2f2 f6h4 g3g6 h4f2 g6g7 g8g7 g1g7 a7a6 g7g8 a8a7 g8h8 c6d7 h8h7 d7h7\n"
     ]
    }
   ],
   "source": [
    "moves = [move.uci() for move in game.mainline_moves()]\n",
    "print(\"Moveas:\", \" \".join(moves))"
   ]
  },
  {
   "cell_type": "code",
   "execution_count": 13,
   "id": "9743a5d6-3fe6-4bba-9f0d-9af8f0bc3d26",
   "metadata": {},
   "outputs": [],
   "source": [
    "#ChessDataset(moves)"
   ]
  },
  {
   "cell_type": "code",
   "execution_count": 43,
   "id": "afbcadc9-1b4d-4bca-adc3-57d1781e451b",
   "metadata": {},
   "outputs": [
    {
     "data": {
      "image/svg+xml": [
       "<svg xmlns=\"http://www.w3.org/2000/svg\" xmlns:xlink=\"http://www.w3.org/1999/xlink\" viewBox=\"0 0 390 390\" width=\"390\" height=\"390\"><desc><pre>r n b q k b n r\n",
       "p p p p p p p p\n",
       ". . . . . . . .\n",
       ". . . . . . . .\n",
       ". . . . P . . .\n",
       ". . . . . . . .\n",
       "P P P P . P P P\n",
       "R N B Q K B N R</pre></desc><defs><g id=\"white-pawn\" class=\"white pawn\"><path d=\"M22.5 9c-2.21 0-4 1.79-4 4 0 .89.29 1.71.78 2.38C17.33 16.5 16 18.59 16 21c0 2.03.94 3.84 2.41 5.03-3 1.06-7.41 5.55-7.41 13.47h23c0-7.92-4.41-12.41-7.41-13.47 1.47-1.19 2.41-3 2.41-5.03 0-2.41-1.33-4.5-3.28-5.62.49-.67.78-1.49.78-2.38 0-2.21-1.79-4-4-4z\" fill=\"#fff\" stroke=\"#000\" stroke-width=\"1.5\" stroke-linecap=\"round\" /></g><g id=\"white-knight\" class=\"white knight\" fill=\"none\" fill-rule=\"evenodd\" stroke=\"#000\" stroke-width=\"1.5\" stroke-linecap=\"round\" stroke-linejoin=\"round\"><path d=\"M 22,10 C 32.5,11 38.5,18 38,39 L 15,39 C 15,30 25,32.5 23,18\" style=\"fill:#ffffff; stroke:#000000;\" /><path d=\"M 24,18 C 24.38,20.91 18.45,25.37 16,27 C 13,29 13.18,31.34 11,31 C 9.958,30.06 12.41,27.96 11,28 C 10,28 11.19,29.23 10,30 C 9,30 5.997,31 6,26 C 6,24 12,14 12,14 C 12,14 13.89,12.1 14,10.5 C 13.27,9.506 13.5,8.5 13.5,7.5 C 14.5,6.5 16.5,10 16.5,10 L 18.5,10 C 18.5,10 19.28,8.008 21,7 C 22,7 22,10 22,10\" style=\"fill:#ffffff; stroke:#000000;\" /><path d=\"M 9.5 25.5 A 0.5 0.5 0 1 1 8.5,25.5 A 0.5 0.5 0 1 1 9.5 25.5 z\" style=\"fill:#000000; stroke:#000000;\" /><path d=\"M 15 15.5 A 0.5 1.5 0 1 1 14,15.5 A 0.5 1.5 0 1 1 15 15.5 z\" transform=\"matrix(0.866,0.5,-0.5,0.866,9.693,-5.173)\" style=\"fill:#000000; stroke:#000000;\" /></g><g id=\"white-bishop\" class=\"white bishop\" fill=\"none\" fill-rule=\"evenodd\" stroke=\"#000\" stroke-width=\"1.5\" stroke-linecap=\"round\" stroke-linejoin=\"round\"><g fill=\"#fff\" stroke-linecap=\"butt\"><path d=\"M9 36c3.39-.97 10.11.43 13.5-2 3.39 2.43 10.11 1.03 13.5 2 0 0 1.65.54 3 2-.68.97-1.65.99-3 .5-3.39-.97-10.11.46-13.5-1-3.39 1.46-10.11.03-13.5 1-1.354.49-2.323.47-3-.5 1.354-1.94 3-2 3-2zM15 32c2.5 2.5 12.5 2.5 15 0 .5-1.5 0-2 0-2 0-2.5-2.5-4-2.5-4 5.5-1.5 6-11.5-5-15.5-11 4-10.5 14-5 15.5 0 0-2.5 1.5-2.5 4 0 0-.5.5 0 2zM25 8a2.5 2.5 0 1 1-5 0 2.5 2.5 0 1 1 5 0z\" /></g><path d=\"M17.5 26h10M15 30h15m-7.5-14.5v5M20 18h5\" stroke-linejoin=\"miter\" /></g><g id=\"white-rook\" class=\"white rook\" fill=\"#fff\" fill-rule=\"evenodd\" stroke=\"#000\" stroke-width=\"1.5\" stroke-linecap=\"round\" stroke-linejoin=\"round\"><path d=\"M9 39h27v-3H9v3zM12 36v-4h21v4H12zM11 14V9h4v2h5V9h5v2h5V9h4v5\" stroke-linecap=\"butt\" /><path d=\"M34 14l-3 3H14l-3-3\" /><path d=\"M31 17v12.5H14V17\" stroke-linecap=\"butt\" stroke-linejoin=\"miter\" /><path d=\"M31 29.5l1.5 2.5h-20l1.5-2.5\" /><path d=\"M11 14h23\" fill=\"none\" stroke-linejoin=\"miter\" /></g><g id=\"white-queen\" class=\"white queen\" fill=\"#fff\" fill-rule=\"evenodd\" stroke=\"#000\" stroke-width=\"1.5\" stroke-linecap=\"round\" stroke-linejoin=\"round\"><path d=\"M8 12a2 2 0 1 1-4 0 2 2 0 1 1 4 0zM24.5 7.5a2 2 0 1 1-4 0 2 2 0 1 1 4 0zM41 12a2 2 0 1 1-4 0 2 2 0 1 1 4 0zM16 8.5a2 2 0 1 1-4 0 2 2 0 1 1 4 0zM33 9a2 2 0 1 1-4 0 2 2 0 1 1 4 0z\" /><path d=\"M9 26c8.5-1.5 21-1.5 27 0l2-12-7 11V11l-5.5 13.5-3-15-3 15-5.5-14V25L7 14l2 12zM9 26c0 2 1.5 2 2.5 4 1 1.5 1 1 .5 3.5-1.5 1-1.5 2.5-1.5 2.5-1.5 1.5.5 2.5.5 2.5 6.5 1 16.5 1 23 0 0 0 1.5-1 0-2.5 0 0 .5-1.5-1-2.5-.5-2.5-.5-2 .5-3.5 1-2 2.5-2 2.5-4-8.5-1.5-18.5-1.5-27 0z\" stroke-linecap=\"butt\" /><path d=\"M11.5 30c3.5-1 18.5-1 22 0M12 33.5c6-1 15-1 21 0\" fill=\"none\" /></g><g id=\"white-king\" class=\"white king\" fill=\"none\" fill-rule=\"evenodd\" stroke=\"#000\" stroke-width=\"1.5\" stroke-linecap=\"round\" stroke-linejoin=\"round\"><path d=\"M22.5 11.63V6M20 8h5\" stroke-linejoin=\"miter\" /><path d=\"M22.5 25s4.5-7.5 3-10.5c0 0-1-2.5-3-2.5s-3 2.5-3 2.5c-1.5 3 3 10.5 3 10.5\" fill=\"#fff\" stroke-linecap=\"butt\" stroke-linejoin=\"miter\" /><path d=\"M11.5 37c5.5 3.5 15.5 3.5 21 0v-7s9-4.5 6-10.5c-4-6.5-13.5-3.5-16 4V27v-3.5c-3.5-7.5-13-10.5-16-4-3 6 5 10 5 10V37z\" fill=\"#fff\" /><path d=\"M11.5 30c5.5-3 15.5-3 21 0m-21 3.5c5.5-3 15.5-3 21 0m-21 3.5c5.5-3 15.5-3 21 0\" /></g><g id=\"black-pawn\" class=\"black pawn\"><path d=\"M22.5 9c-2.21 0-4 1.79-4 4 0 .89.29 1.71.78 2.38C17.33 16.5 16 18.59 16 21c0 2.03.94 3.84 2.41 5.03-3 1.06-7.41 5.55-7.41 13.47h23c0-7.92-4.41-12.41-7.41-13.47 1.47-1.19 2.41-3 2.41-5.03 0-2.41-1.33-4.5-3.28-5.62.49-.67.78-1.49.78-2.38 0-2.21-1.79-4-4-4z\" fill=\"#000\" stroke=\"#000\" stroke-width=\"1.5\" stroke-linecap=\"round\" /></g><g id=\"black-knight\" class=\"black knight\" fill=\"none\" fill-rule=\"evenodd\" stroke=\"#000\" stroke-width=\"1.5\" stroke-linecap=\"round\" stroke-linejoin=\"round\"><path d=\"M 22,10 C 32.5,11 38.5,18 38,39 L 15,39 C 15,30 25,32.5 23,18\" style=\"fill:#000000; stroke:#000000;\" /><path d=\"M 24,18 C 24.38,20.91 18.45,25.37 16,27 C 13,29 13.18,31.34 11,31 C 9.958,30.06 12.41,27.96 11,28 C 10,28 11.19,29.23 10,30 C 9,30 5.997,31 6,26 C 6,24 12,14 12,14 C 12,14 13.89,12.1 14,10.5 C 13.27,9.506 13.5,8.5 13.5,7.5 C 14.5,6.5 16.5,10 16.5,10 L 18.5,10 C 18.5,10 19.28,8.008 21,7 C 22,7 22,10 22,10\" style=\"fill:#000000; stroke:#000000;\" /><path d=\"M 9.5 25.5 A 0.5 0.5 0 1 1 8.5,25.5 A 0.5 0.5 0 1 1 9.5 25.5 z\" style=\"fill:#ececec; stroke:#ececec;\" /><path d=\"M 15 15.5 A 0.5 1.5 0 1 1 14,15.5 A 0.5 1.5 0 1 1 15 15.5 z\" transform=\"matrix(0.866,0.5,-0.5,0.866,9.693,-5.173)\" style=\"fill:#ececec; stroke:#ececec;\" /><path d=\"M 24.55,10.4 L 24.1,11.85 L 24.6,12 C 27.75,13 30.25,14.49 32.5,18.75 C 34.75,23.01 35.75,29.06 35.25,39 L 35.2,39.5 L 37.45,39.5 L 37.5,39 C 38,28.94 36.62,22.15 34.25,17.66 C 31.88,13.17 28.46,11.02 25.06,10.5 L 24.55,10.4 z \" style=\"fill:#ececec; stroke:none;\" /></g><g id=\"black-bishop\" class=\"black bishop\" fill=\"none\" fill-rule=\"evenodd\" stroke=\"#000\" stroke-width=\"1.5\" stroke-linecap=\"round\" stroke-linejoin=\"round\"><path d=\"M9 36c3.39-.97 10.11.43 13.5-2 3.39 2.43 10.11 1.03 13.5 2 0 0 1.65.54 3 2-.68.97-1.65.99-3 .5-3.39-.97-10.11.46-13.5-1-3.39 1.46-10.11.03-13.5 1-1.354.49-2.323.47-3-.5 1.354-1.94 3-2 3-2zm6-4c2.5 2.5 12.5 2.5 15 0 .5-1.5 0-2 0-2 0-2.5-2.5-4-2.5-4 5.5-1.5 6-11.5-5-15.5-11 4-10.5 14-5 15.5 0 0-2.5 1.5-2.5 4 0 0-.5.5 0 2zM25 8a2.5 2.5 0 1 1-5 0 2.5 2.5 0 1 1 5 0z\" fill=\"#000\" stroke-linecap=\"butt\" /><path d=\"M17.5 26h10M15 30h15m-7.5-14.5v5M20 18h5\" stroke=\"#fff\" stroke-linejoin=\"miter\" /></g><g id=\"black-rook\" class=\"black rook\" fill=\"#000\" fill-rule=\"evenodd\" stroke=\"#000\" stroke-width=\"1.5\" stroke-linecap=\"round\" stroke-linejoin=\"round\"><path d=\"M9 39h27v-3H9v3zM12.5 32l1.5-2.5h17l1.5 2.5h-20zM12 36v-4h21v4H12z\" stroke-linecap=\"butt\" /><path d=\"M14 29.5v-13h17v13H14z\" stroke-linecap=\"butt\" stroke-linejoin=\"miter\" /><path d=\"M14 16.5L11 14h23l-3 2.5H14zM11 14V9h4v2h5V9h5v2h5V9h4v5H11z\" stroke-linecap=\"butt\" /><path d=\"M12 35.5h21M13 31.5h19M14 29.5h17M14 16.5h17M11 14h23\" fill=\"none\" stroke=\"#fff\" stroke-width=\"1\" stroke-linejoin=\"miter\" /></g><g id=\"black-queen\" class=\"black queen\" fill=\"#000\" fill-rule=\"evenodd\" stroke=\"#000\" stroke-width=\"1.5\" stroke-linecap=\"round\" stroke-linejoin=\"round\"><g fill=\"#000\" stroke=\"none\"><circle cx=\"6\" cy=\"12\" r=\"2.75\" /><circle cx=\"14\" cy=\"9\" r=\"2.75\" /><circle cx=\"22.5\" cy=\"8\" r=\"2.75\" /><circle cx=\"31\" cy=\"9\" r=\"2.75\" /><circle cx=\"39\" cy=\"12\" r=\"2.75\" /></g><path d=\"M9 26c8.5-1.5 21-1.5 27 0l2.5-12.5L31 25l-.3-14.1-5.2 13.6-3-14.5-3 14.5-5.2-13.6L14 25 6.5 13.5 9 26zM9 26c0 2 1.5 2 2.5 4 1 1.5 1 1 .5 3.5-1.5 1-1.5 2.5-1.5 2.5-1.5 1.5.5 2.5.5 2.5 6.5 1 16.5 1 23 0 0 0 1.5-1 0-2.5 0 0 .5-1.5-1-2.5-.5-2.5-.5-2 .5-3.5 1-2 2.5-2 2.5-4-8.5-1.5-18.5-1.5-27 0z\" stroke-linecap=\"butt\" /><path d=\"M11 38.5a35 35 1 0 0 23 0\" fill=\"none\" stroke-linecap=\"butt\" /><path d=\"M11 29a35 35 1 0 1 23 0M12.5 31.5h20M11.5 34.5a35 35 1 0 0 22 0M10.5 37.5a35 35 1 0 0 24 0\" fill=\"none\" stroke=\"#fff\" /></g><g id=\"black-king\" class=\"black king\" fill=\"none\" fill-rule=\"evenodd\" stroke=\"#000\" stroke-width=\"1.5\" stroke-linecap=\"round\" stroke-linejoin=\"round\"><path d=\"M22.5 11.63V6\" stroke-linejoin=\"miter\" /><path d=\"M22.5 25s4.5-7.5 3-10.5c0 0-1-2.5-3-2.5s-3 2.5-3 2.5c-1.5 3 3 10.5 3 10.5\" fill=\"#000\" stroke-linecap=\"butt\" stroke-linejoin=\"miter\" /><path d=\"M11.5 37c5.5 3.5 15.5 3.5 21 0v-7s9-4.5 6-10.5c-4-6.5-13.5-3.5-16 4V27v-3.5c-3.5-7.5-13-10.5-16-4-3 6 5 10 5 10V37z\" fill=\"#000\" /><path d=\"M20 8h5\" stroke-linejoin=\"miter\" /><path d=\"M32 29.5s8.5-4 6.03-9.65C34.15 14 25 18 22.5 24.5l.01 2.1-.01-2.1C20 18 9.906 14 6.997 19.85c-2.497 5.65 4.853 9 4.853 9M11.5 30c5.5-3 15.5-3 21 0m-21 3.5c5.5-3 15.5-3 21 0m-21 3.5c5.5-3 15.5-3 21 0\" stroke=\"#fff\" /></g></defs><rect x=\"7.5\" y=\"7.5\" width=\"375\" height=\"375\" fill=\"none\" stroke=\"#212121\" stroke-width=\"15\" /><g transform=\"translate(20, 1) scale(0.75, 0.75)\" fill=\"#e5e5e5\" stroke=\"#e5e5e5\"><path d=\"M23.328 10.016q-1.742 0-2.414.398-.672.398-.672 1.36 0 .765.5 1.218.508.445 1.375.445 1.196 0 1.914-.843.727-.852.727-2.258v-.32zm2.867-.594v4.992h-1.437v-1.328q-.492.797-1.227 1.18-.734.375-1.797.375-1.343 0-2.14-.75-.79-.758-.79-2.024 0-1.476.985-2.226.992-.75 2.953-.75h2.016V8.75q0-.992-.656-1.531-.649-.547-1.829-.547-.75 0-1.46.18-.711.18-1.368.539V6.062q.79-.304 1.532-.453.742-.156 1.445-.156 1.898 0 2.836.984.937.985.937 2.985z\" /></g><g transform=\"translate(20, 375) scale(0.75, 0.75)\" fill=\"#e5e5e5\" stroke=\"#e5e5e5\"><path d=\"M23.328 10.016q-1.742 0-2.414.398-.672.398-.672 1.36 0 .765.5 1.218.508.445 1.375.445 1.196 0 1.914-.843.727-.852.727-2.258v-.32zm2.867-.594v4.992h-1.437v-1.328q-.492.797-1.227 1.18-.734.375-1.797.375-1.343 0-2.14-.75-.79-.758-.79-2.024 0-1.476.985-2.226.992-.75 2.953-.75h2.016V8.75q0-.992-.656-1.531-.649-.547-1.829-.547-.75 0-1.46.18-.711.18-1.368.539V6.062q.79-.304 1.532-.453.742-.156 1.445-.156 1.898 0 2.836.984.937.985.937 2.985z\" /></g><g transform=\"translate(65, 1) scale(0.75, 0.75)\" fill=\"#e5e5e5\" stroke=\"#e5e5e5\"><path d=\"M24.922 10.047q0-1.586-.656-2.485-.649-.906-1.79-.906-1.14 0-1.796.906-.649.899-.649 2.485 0 1.586.649 2.492.656.898 1.797.898 1.14 0 1.789-.898.656-.906.656-2.492zm-4.89-3.055q.452-.781 1.14-1.156.695-.383 1.656-.383 1.594 0 2.586 1.266 1 1.265 1 3.328 0 2.062-1 3.328-.992 1.266-2.586 1.266-.96 0-1.656-.375-.688-.383-1.14-1.164v1.312h-1.446V2.258h1.445z\" /></g><g transform=\"translate(65, 375) scale(0.75, 0.75)\" fill=\"#e5e5e5\" stroke=\"#e5e5e5\"><path d=\"M24.922 10.047q0-1.586-.656-2.485-.649-.906-1.79-.906-1.14 0-1.796.906-.649.899-.649 2.485 0 1.586.649 2.492.656.898 1.797.898 1.14 0 1.789-.898.656-.906.656-2.492zm-4.89-3.055q.452-.781 1.14-1.156.695-.383 1.656-.383 1.594 0 2.586 1.266 1 1.265 1 3.328 0 2.062-1 3.328-.992 1.266-2.586 1.266-.96 0-1.656-.375-.688-.383-1.14-1.164v1.312h-1.446V2.258h1.445z\" /></g><g transform=\"translate(110, 1) scale(0.75, 0.75)\" fill=\"#e5e5e5\" stroke=\"#e5e5e5\"><path d=\"M25.96 6v1.344q-.608-.336-1.226-.5-.609-.172-1.234-.172-1.398 0-2.172.89-.773.883-.773 2.485 0 1.601.773 2.492.774.883 2.172.883.625 0 1.234-.164.618-.172 1.227-.508v1.328q-.602.281-1.25.422-.64.14-1.367.14-1.977 0-3.14-1.242-1.165-1.242-1.165-3.351 0-2.14 1.172-3.367 1.18-1.227 3.227-1.227.664 0 1.296.14.633.134 1.227.407z\" /></g><g transform=\"translate(110, 375) scale(0.75, 0.75)\" fill=\"#e5e5e5\" stroke=\"#e5e5e5\"><path d=\"M25.96 6v1.344q-.608-.336-1.226-.5-.609-.172-1.234-.172-1.398 0-2.172.89-.773.883-.773 2.485 0 1.601.773 2.492.774.883 2.172.883.625 0 1.234-.164.618-.172 1.227-.508v1.328q-.602.281-1.25.422-.64.14-1.367.14-1.977 0-3.14-1.242-1.165-1.242-1.165-3.351 0-2.14 1.172-3.367 1.18-1.227 3.227-1.227.664 0 1.296.14.633.134 1.227.407z\" /></g><g transform=\"translate(155, 1) scale(0.75, 0.75)\" fill=\"#e5e5e5\" stroke=\"#e5e5e5\"><path d=\"M24.973 6.992V2.258h1.437v12.156h-1.437v-1.312q-.453.78-1.149 1.164-.687.375-1.656.375-1.586 0-2.586-1.266-.992-1.266-.992-3.328 0-2.063.992-3.328 1-1.266 2.586-1.266.969 0 1.656.383.696.375 1.149 1.156zm-4.899 3.055q0 1.586.649 2.492.656.898 1.797.898 1.14 0 1.796-.898.657-.906.657-2.492 0-1.586-.657-2.485-.656-.906-1.796-.906-1.141 0-1.797.906-.649.899-.649 2.485z\" /></g><g transform=\"translate(155, 375) scale(0.75, 0.75)\" fill=\"#e5e5e5\" stroke=\"#e5e5e5\"><path d=\"M24.973 6.992V2.258h1.437v12.156h-1.437v-1.312q-.453.78-1.149 1.164-.687.375-1.656.375-1.586 0-2.586-1.266-.992-1.266-.992-3.328 0-2.063.992-3.328 1-1.266 2.586-1.266.969 0 1.656.383.696.375 1.149 1.156zm-4.899 3.055q0 1.586.649 2.492.656.898 1.797.898 1.14 0 1.796-.898.657-.906.657-2.492 0-1.586-.657-2.485-.656-.906-1.796-.906-1.141 0-1.797.906-.649.899-.649 2.485z\" /></g><g transform=\"translate(200, 1) scale(0.75, 0.75)\" fill=\"#e5e5e5\" stroke=\"#e5e5e5\"><path d=\"M26.555 9.68v.703h-6.61q.094 1.484.89 2.265.806.774 2.235.774.828 0 1.602-.203.781-.203 1.547-.61v1.36q-.774.328-1.586.5-.813.172-1.649.172-2.093 0-3.32-1.22-1.219-1.218-1.219-3.296 0-2.148 1.157-3.406 1.164-1.266 3.132-1.266 1.766 0 2.79 1.14 1.03 1.134 1.03 3.087zm-1.438-.422q-.015-1.18-.664-1.883-.64-.703-1.703-.703-1.203 0-1.93.68-.718.68-.828 1.914z\" /></g><g transform=\"translate(200, 375) scale(0.75, 0.75)\" fill=\"#e5e5e5\" stroke=\"#e5e5e5\"><path d=\"M26.555 9.68v.703h-6.61q.094 1.484.89 2.265.806.774 2.235.774.828 0 1.602-.203.781-.203 1.547-.61v1.36q-.774.328-1.586.5-.813.172-1.649.172-2.093 0-3.32-1.22-1.219-1.218-1.219-3.296 0-2.148 1.157-3.406 1.164-1.266 3.132-1.266 1.766 0 2.79 1.14 1.03 1.134 1.03 3.087zm-1.438-.422q-.015-1.18-.664-1.883-.64-.703-1.703-.703-1.203 0-1.93.68-.718.68-.828 1.914z\" /></g><g transform=\"translate(245, 1) scale(0.75, 0.75)\" fill=\"#e5e5e5\" stroke=\"#e5e5e5\"><path d=\"M25.285 2.258v1.195H23.91q-.773 0-1.078.313-.297.312-.297 1.125v.773h2.367v1.117h-2.367v7.633H21.09V6.781h-1.375V5.664h1.375v-.61q0-1.46.68-2.124.68-.672 2.156-.672z\" /></g><g transform=\"translate(245, 375) scale(0.75, 0.75)\" fill=\"#e5e5e5\" stroke=\"#e5e5e5\"><path d=\"M25.285 2.258v1.195H23.91q-.773 0-1.078.313-.297.312-.297 1.125v.773h2.367v1.117h-2.367v7.633H21.09V6.781h-1.375V5.664h1.375v-.61q0-1.46.68-2.124.68-.672 2.156-.672z\" /></g><g transform=\"translate(290, 1) scale(0.75, 0.75)\" fill=\"#e5e5e5\" stroke=\"#e5e5e5\"><path d=\"M24.973 9.937q0-1.562-.649-2.421-.64-.86-1.804-.86-1.157 0-1.805.86-.64.859-.64 2.421 0 1.555.64 2.415.648.859 1.805.859 1.164 0 1.804-.86.649-.859.649-2.414zm1.437 3.391q0 2.234-.992 3.32-.992 1.094-3.04 1.094-.757 0-1.429-.117-.672-.11-1.304-.344v-1.398q.632.344 1.25.508.617.164 1.257.164 1.414 0 2.118-.743.703-.734.703-2.226v-.711q-.446.773-1.141 1.156-.695.383-1.664.383-1.61 0-2.594-1.227-.984-1.226-.984-3.25 0-2.03.984-3.257.985-1.227 2.594-1.227.969 0 1.664.383t1.14 1.156V5.664h1.438z\" /></g><g transform=\"translate(290, 375) scale(0.75, 0.75)\" fill=\"#e5e5e5\" stroke=\"#e5e5e5\"><path d=\"M24.973 9.937q0-1.562-.649-2.421-.64-.86-1.804-.86-1.157 0-1.805.86-.64.859-.64 2.421 0 1.555.64 2.415.648.859 1.805.859 1.164 0 1.804-.86.649-.859.649-2.414zm1.437 3.391q0 2.234-.992 3.32-.992 1.094-3.04 1.094-.757 0-1.429-.117-.672-.11-1.304-.344v-1.398q.632.344 1.25.508.617.164 1.257.164 1.414 0 2.118-.743.703-.734.703-2.226v-.711q-.446.773-1.141 1.156-.695.383-1.664.383-1.61 0-2.594-1.227-.984-1.226-.984-3.25 0-2.03.984-3.257.985-1.227 2.594-1.227.969 0 1.664.383t1.14 1.156V5.664h1.438z\" /></g><g transform=\"translate(335, 1) scale(0.75, 0.75)\" fill=\"#e5e5e5\" stroke=\"#e5e5e5\"><path d=\"M26.164 9.133v5.281h-1.437V9.18q0-1.243-.485-1.86-.484-.617-1.453-.617-1.164 0-1.836.742-.672.742-.672 2.024v4.945h-1.445V2.258h1.445v4.765q.516-.789 1.211-1.18.703-.39 1.617-.39 1.508 0 2.282.938.773.93.773 2.742z\" /></g><g transform=\"translate(335, 375) scale(0.75, 0.75)\" fill=\"#e5e5e5\" stroke=\"#e5e5e5\"><path d=\"M26.164 9.133v5.281h-1.437V9.18q0-1.243-.485-1.86-.484-.617-1.453-.617-1.164 0-1.836.742-.672.742-.672 2.024v4.945h-1.445V2.258h1.445v4.765q.516-.789 1.211-1.18.703-.39 1.617-.39 1.508 0 2.282.938.773.93.773 2.742z\" /></g><g transform=\"translate(0, 335) scale(0.75, 0.75)\" fill=\"#e5e5e5\" stroke=\"#e5e5e5\"><path d=\"M6.754 26.996h2.578v-8.898l-2.805.562v-1.437l2.79-.563h1.578v10.336h2.578v1.328h-6.72z\" /></g><g transform=\"translate(375, 335) scale(0.75, 0.75)\" fill=\"#e5e5e5\" stroke=\"#e5e5e5\"><path d=\"M6.754 26.996h2.578v-8.898l-2.805.562v-1.437l2.79-.563h1.578v10.336h2.578v1.328h-6.72z\" /></g><g transform=\"translate(0, 290) scale(0.75, 0.75)\" fill=\"#e5e5e5\" stroke=\"#e5e5e5\"><path d=\"M8.195 26.996h5.508v1.328H6.297v-1.328q.898-.93 2.445-2.492 1.555-1.57 1.953-2.024.758-.851 1.055-1.437.305-.594.305-1.164 0-.93-.657-1.516-.648-.586-1.695-.586-.742 0-1.57.258-.82.258-1.758.781v-1.593q.953-.383 1.781-.578.828-.196 1.516-.196 1.812 0 2.89.906 1.079.907 1.079 2.422 0 .72-.274 1.368-.265.64-.976 1.515-.196.227-1.243 1.313-1.046 1.078-2.953 3.023z\" /></g><g transform=\"translate(375, 290) scale(0.75, 0.75)\" fill=\"#e5e5e5\" stroke=\"#e5e5e5\"><path d=\"M8.195 26.996h5.508v1.328H6.297v-1.328q.898-.93 2.445-2.492 1.555-1.57 1.953-2.024.758-.851 1.055-1.437.305-.594.305-1.164 0-.93-.657-1.516-.648-.586-1.695-.586-.742 0-1.57.258-.82.258-1.758.781v-1.593q.953-.383 1.781-.578.828-.196 1.516-.196 1.812 0 2.89.906 1.079.907 1.079 2.422 0 .72-.274 1.368-.265.64-.976 1.515-.196.227-1.243 1.313-1.046 1.078-2.953 3.023z\" /></g><g transform=\"translate(0, 245) scale(0.75, 0.75)\" fill=\"#e5e5e5\" stroke=\"#e5e5e5\"><path d=\"M11.434 22.035q1.132.242 1.765 1.008.64.766.64 1.89 0 1.727-1.187 2.672-1.187.946-3.375.946-.734 0-1.515-.149-.774-.14-1.602-.43V26.45q.656.383 1.438.578.78.196 1.632.196 1.485 0 2.258-.586.782-.586.782-1.703 0-1.032-.727-1.61-.719-.586-2.008-.586h-1.36v-1.297h1.423q1.164 0 1.78-.46.618-.47.618-1.344 0-.899-.64-1.375-.633-.485-1.82-.485-.65 0-1.391.141-.743.14-1.633.437V16.95q.898-.25 1.68-.375.788-.125 1.484-.125 1.797 0 2.844.82 1.046.813 1.046 2.204 0 .968-.554 1.64-.555.664-1.578.922z\" /></g><g transform=\"translate(375, 245) scale(0.75, 0.75)\" fill=\"#e5e5e5\" stroke=\"#e5e5e5\"><path d=\"M11.434 22.035q1.132.242 1.765 1.008.64.766.64 1.89 0 1.727-1.187 2.672-1.187.946-3.375.946-.734 0-1.515-.149-.774-.14-1.602-.43V26.45q.656.383 1.438.578.78.196 1.632.196 1.485 0 2.258-.586.782-.586.782-1.703 0-1.032-.727-1.61-.719-.586-2.008-.586h-1.36v-1.297h1.423q1.164 0 1.78-.46.618-.47.618-1.344 0-.899-.64-1.375-.633-.485-1.82-.485-.65 0-1.391.141-.743.14-1.633.437V16.95q.898-.25 1.68-.375.788-.125 1.484-.125 1.797 0 2.844.82 1.046.813 1.046 2.204 0 .968-.554 1.64-.555.664-1.578.922z\" /></g><g transform=\"translate(0, 200) scale(0.75, 0.75)\" fill=\"#e5e5e5\" stroke=\"#e5e5e5\"><path d=\"M11.016 18.035L7.03 24.262h3.985zm-.414-1.375h1.984v7.602h1.664v1.312h-1.664v2.75h-1.57v-2.75H5.75v-1.523z\" /></g><g transform=\"translate(375, 200) scale(0.75, 0.75)\" fill=\"#e5e5e5\" stroke=\"#e5e5e5\"><path d=\"M11.016 18.035L7.03 24.262h3.985zm-.414-1.375h1.984v7.602h1.664v1.312h-1.664v2.75h-1.57v-2.75H5.75v-1.523z\" /></g><g transform=\"translate(0, 155) scale(0.75, 0.75)\" fill=\"#e5e5e5\" stroke=\"#e5e5e5\"><path d=\"M6.719 16.66h6.195v1.328h-4.75v2.86q.344-.118.688-.172.343-.063.687-.063 1.953 0 3.094 1.07 1.14 1.07 1.14 2.899 0 1.883-1.171 2.93-1.172 1.039-3.305 1.039-.735 0-1.5-.125-.758-.125-1.57-.375v-1.586q.703.383 1.453.57.75.188 1.586.188 1.351 0 2.14-.711.79-.711.79-1.93 0-1.219-.79-1.93-.789-.71-2.14-.71-.633 0-1.266.14-.625.14-1.281.438z\" /></g><g transform=\"translate(375, 155) scale(0.75, 0.75)\" fill=\"#e5e5e5\" stroke=\"#e5e5e5\"><path d=\"M6.719 16.66h6.195v1.328h-4.75v2.86q.344-.118.688-.172.343-.063.687-.063 1.953 0 3.094 1.07 1.14 1.07 1.14 2.899 0 1.883-1.171 2.93-1.172 1.039-3.305 1.039-.735 0-1.5-.125-.758-.125-1.57-.375v-1.586q.703.383 1.453.57.75.188 1.586.188 1.351 0 2.14-.711.79-.711.79-1.93 0-1.219-.79-1.93-.789-.71-2.14-.71-.633 0-1.266.14-.625.14-1.281.438z\" /></g><g transform=\"translate(0, 110) scale(0.75, 0.75)\" fill=\"#e5e5e5\" stroke=\"#e5e5e5\"><path d=\"M10.137 21.863q-1.063 0-1.688.727-.617.726-.617 1.992 0 1.258.617 1.992.625.727 1.688.727 1.062 0 1.68-.727.624-.734.624-1.992 0-1.266-.625-1.992-.617-.727-1.68-.727zm3.133-4.945v1.437q-.594-.28-1.204-.43-.601-.148-1.195-.148-1.562 0-2.39 1.055-.82 1.055-.938 3.188.46-.68 1.156-1.04.696-.367 1.531-.367 1.758 0 2.774 1.07 1.023 1.063 1.023 2.899 0 1.797-1.062 2.883-1.063 1.086-2.828 1.086-2.024 0-3.094-1.547-1.07-1.555-1.07-4.5 0-2.766 1.312-4.406 1.313-1.649 3.524-1.649.593 0 1.195.117.61.118 1.266.352z\" /></g><g transform=\"translate(375, 110) scale(0.75, 0.75)\" fill=\"#e5e5e5\" stroke=\"#e5e5e5\"><path d=\"M10.137 21.863q-1.063 0-1.688.727-.617.726-.617 1.992 0 1.258.617 1.992.625.727 1.688.727 1.062 0 1.68-.727.624-.734.624-1.992 0-1.266-.625-1.992-.617-.727-1.68-.727zm3.133-4.945v1.437q-.594-.28-1.204-.43-.601-.148-1.195-.148-1.562 0-2.39 1.055-.82 1.055-.938 3.188.46-.68 1.156-1.04.696-.367 1.531-.367 1.758 0 2.774 1.07 1.023 1.063 1.023 2.899 0 1.797-1.062 2.883-1.063 1.086-2.828 1.086-2.024 0-3.094-1.547-1.07-1.555-1.07-4.5 0-2.766 1.312-4.406 1.313-1.649 3.524-1.649.593 0 1.195.117.61.118 1.266.352z\" /></g><g transform=\"translate(0, 65) scale(0.75, 0.75)\" fill=\"#e5e5e5\" stroke=\"#e5e5e5\"><path d=\"M6.25 16.66h7.5v.672L9.516 28.324H7.867l3.985-10.336H6.25z\" /></g><g transform=\"translate(375, 65) scale(0.75, 0.75)\" fill=\"#e5e5e5\" stroke=\"#e5e5e5\"><path d=\"M6.25 16.66h7.5v.672L9.516 28.324H7.867l3.985-10.336H6.25z\" /></g><g transform=\"translate(0, 20) scale(0.75, 0.75)\" fill=\"#e5e5e5\" stroke=\"#e5e5e5\"><path d=\"M10 22.785q-1.125 0-1.773.602-.641.601-.641 1.656t.64 1.656q.649.602 1.774.602t1.773-.602q.649-.61.649-1.656 0-1.055-.649-1.656-.64-.602-1.773-.602zm-1.578-.672q-1.016-.25-1.586-.945-.563-.695-.563-1.695 0-1.399.993-2.211 1-.813 2.734-.813 1.742 0 2.734.813.993.812.993 2.21 0 1-.57 1.696-.563.695-1.571.945 1.14.266 1.773 1.04.641.773.641 1.89 0 1.695-1.04 2.602-1.03.906-2.96.906t-2.969-.906Q6 26.738 6 25.043q0-1.117.64-1.89.641-.774 1.782-1.04zm-.578-2.492q0 .906.562 1.414.57.508 1.594.508 1.016 0 1.586-.508.578-.508.578-1.414 0-.906-.578-1.414-.57-.508-1.586-.508-1.023 0-1.594.508-.562.508-.562 1.414z\" /></g><g transform=\"translate(375, 20) scale(0.75, 0.75)\" fill=\"#e5e5e5\" stroke=\"#e5e5e5\"><path d=\"M10 22.785q-1.125 0-1.773.602-.641.601-.641 1.656t.64 1.656q.649.602 1.774.602t1.773-.602q.649-.61.649-1.656 0-1.055-.649-1.656-.64-.602-1.773-.602zm-1.578-.672q-1.016-.25-1.586-.945-.563-.695-.563-1.695 0-1.399.993-2.211 1-.813 2.734-.813 1.742 0 2.734.813.993.812.993 2.21 0 1-.57 1.696-.563.695-1.571.945 1.14.266 1.773 1.04.641.773.641 1.89 0 1.695-1.04 2.602-1.03.906-2.96.906t-2.969-.906Q6 26.738 6 25.043q0-1.117.64-1.89.641-.774 1.782-1.04zm-.578-2.492q0 .906.562 1.414.57.508 1.594.508 1.016 0 1.586-.508.578-.508.578-1.414 0-.906-.578-1.414-.57-.508-1.586-.508-1.023 0-1.594.508-.562.508-.562 1.414z\" /></g><rect x=\"15\" y=\"330\" width=\"45\" height=\"45\" class=\"square dark a1\" stroke=\"none\" fill=\"#d18b47\" /><rect x=\"60\" y=\"330\" width=\"45\" height=\"45\" class=\"square light b1\" stroke=\"none\" fill=\"#ffce9e\" /><rect x=\"105\" y=\"330\" width=\"45\" height=\"45\" class=\"square dark c1\" stroke=\"none\" fill=\"#d18b47\" /><rect x=\"150\" y=\"330\" width=\"45\" height=\"45\" class=\"square light d1\" stroke=\"none\" fill=\"#ffce9e\" /><rect x=\"195\" y=\"330\" width=\"45\" height=\"45\" class=\"square dark e1\" stroke=\"none\" fill=\"#d18b47\" /><rect x=\"240\" y=\"330\" width=\"45\" height=\"45\" class=\"square light f1\" stroke=\"none\" fill=\"#ffce9e\" /><rect x=\"285\" y=\"330\" width=\"45\" height=\"45\" class=\"square dark g1\" stroke=\"none\" fill=\"#d18b47\" /><rect x=\"330\" y=\"330\" width=\"45\" height=\"45\" class=\"square light h1\" stroke=\"none\" fill=\"#ffce9e\" /><rect x=\"15\" y=\"285\" width=\"45\" height=\"45\" class=\"square light a2\" stroke=\"none\" fill=\"#ffce9e\" /><rect x=\"60\" y=\"285\" width=\"45\" height=\"45\" class=\"square dark b2\" stroke=\"none\" fill=\"#d18b47\" /><rect x=\"105\" y=\"285\" width=\"45\" height=\"45\" class=\"square light c2\" stroke=\"none\" fill=\"#ffce9e\" /><rect x=\"150\" y=\"285\" width=\"45\" height=\"45\" class=\"square dark d2\" stroke=\"none\" fill=\"#d18b47\" /><rect x=\"195\" y=\"285\" width=\"45\" height=\"45\" class=\"square light lastmove e2\" stroke=\"none\" fill=\"#cdd16a\" /><rect x=\"240\" y=\"285\" width=\"45\" height=\"45\" class=\"square dark f2\" stroke=\"none\" fill=\"#d18b47\" /><rect x=\"285\" y=\"285\" width=\"45\" height=\"45\" class=\"square light g2\" stroke=\"none\" fill=\"#ffce9e\" /><rect x=\"330\" y=\"285\" width=\"45\" height=\"45\" class=\"square dark h2\" stroke=\"none\" fill=\"#d18b47\" /><rect x=\"15\" y=\"240\" width=\"45\" height=\"45\" class=\"square dark a3\" stroke=\"none\" fill=\"#d18b47\" /><rect x=\"60\" y=\"240\" width=\"45\" height=\"45\" class=\"square light b3\" stroke=\"none\" fill=\"#ffce9e\" /><rect x=\"105\" y=\"240\" width=\"45\" height=\"45\" class=\"square dark c3\" stroke=\"none\" fill=\"#d18b47\" /><rect x=\"150\" y=\"240\" width=\"45\" height=\"45\" class=\"square light d3\" stroke=\"none\" fill=\"#ffce9e\" /><rect x=\"195\" y=\"240\" width=\"45\" height=\"45\" class=\"square dark e3\" stroke=\"none\" fill=\"#d18b47\" /><rect x=\"240\" y=\"240\" width=\"45\" height=\"45\" class=\"square light f3\" stroke=\"none\" fill=\"#ffce9e\" /><rect x=\"285\" y=\"240\" width=\"45\" height=\"45\" class=\"square dark g3\" stroke=\"none\" fill=\"#d18b47\" /><rect x=\"330\" y=\"240\" width=\"45\" height=\"45\" class=\"square light h3\" stroke=\"none\" fill=\"#ffce9e\" /><rect x=\"15\" y=\"195\" width=\"45\" height=\"45\" class=\"square light a4\" stroke=\"none\" fill=\"#ffce9e\" /><rect x=\"60\" y=\"195\" width=\"45\" height=\"45\" class=\"square dark b4\" stroke=\"none\" fill=\"#d18b47\" /><rect x=\"105\" y=\"195\" width=\"45\" height=\"45\" class=\"square light c4\" stroke=\"none\" fill=\"#ffce9e\" /><rect x=\"150\" y=\"195\" width=\"45\" height=\"45\" class=\"square dark d4\" stroke=\"none\" fill=\"#d18b47\" /><rect x=\"195\" y=\"195\" width=\"45\" height=\"45\" class=\"square light lastmove e4\" stroke=\"none\" fill=\"#cdd16a\" /><rect x=\"240\" y=\"195\" width=\"45\" height=\"45\" class=\"square dark f4\" stroke=\"none\" fill=\"#d18b47\" /><rect x=\"285\" y=\"195\" width=\"45\" height=\"45\" class=\"square light g4\" stroke=\"none\" fill=\"#ffce9e\" /><rect x=\"330\" y=\"195\" width=\"45\" height=\"45\" class=\"square dark h4\" stroke=\"none\" fill=\"#d18b47\" /><rect x=\"15\" y=\"150\" width=\"45\" height=\"45\" class=\"square dark a5\" stroke=\"none\" fill=\"#d18b47\" /><rect x=\"60\" y=\"150\" width=\"45\" height=\"45\" class=\"square light b5\" stroke=\"none\" fill=\"#ffce9e\" /><rect x=\"105\" y=\"150\" width=\"45\" height=\"45\" class=\"square dark c5\" stroke=\"none\" fill=\"#d18b47\" /><rect x=\"150\" y=\"150\" width=\"45\" height=\"45\" class=\"square light d5\" stroke=\"none\" fill=\"#ffce9e\" /><rect x=\"195\" y=\"150\" width=\"45\" height=\"45\" class=\"square dark e5\" stroke=\"none\" fill=\"#d18b47\" /><rect x=\"240\" y=\"150\" width=\"45\" height=\"45\" class=\"square light f5\" stroke=\"none\" fill=\"#ffce9e\" /><rect x=\"285\" y=\"150\" width=\"45\" height=\"45\" class=\"square dark g5\" stroke=\"none\" fill=\"#d18b47\" /><rect x=\"330\" y=\"150\" width=\"45\" height=\"45\" class=\"square light h5\" stroke=\"none\" fill=\"#ffce9e\" /><rect x=\"15\" y=\"105\" width=\"45\" height=\"45\" class=\"square light a6\" stroke=\"none\" fill=\"#ffce9e\" /><rect x=\"60\" y=\"105\" width=\"45\" height=\"45\" class=\"square dark b6\" stroke=\"none\" fill=\"#d18b47\" /><rect x=\"105\" y=\"105\" width=\"45\" height=\"45\" class=\"square light c6\" stroke=\"none\" fill=\"#ffce9e\" /><rect x=\"150\" y=\"105\" width=\"45\" height=\"45\" class=\"square dark d6\" stroke=\"none\" fill=\"#d18b47\" /><rect x=\"195\" y=\"105\" width=\"45\" height=\"45\" class=\"square light e6\" stroke=\"none\" fill=\"#ffce9e\" /><rect x=\"240\" y=\"105\" width=\"45\" height=\"45\" class=\"square dark f6\" stroke=\"none\" fill=\"#d18b47\" /><rect x=\"285\" y=\"105\" width=\"45\" height=\"45\" class=\"square light g6\" stroke=\"none\" fill=\"#ffce9e\" /><rect x=\"330\" y=\"105\" width=\"45\" height=\"45\" class=\"square dark h6\" stroke=\"none\" fill=\"#d18b47\" /><rect x=\"15\" y=\"60\" width=\"45\" height=\"45\" class=\"square dark a7\" stroke=\"none\" fill=\"#d18b47\" /><rect x=\"60\" y=\"60\" width=\"45\" height=\"45\" class=\"square light b7\" stroke=\"none\" fill=\"#ffce9e\" /><rect x=\"105\" y=\"60\" width=\"45\" height=\"45\" class=\"square dark c7\" stroke=\"none\" fill=\"#d18b47\" /><rect x=\"150\" y=\"60\" width=\"45\" height=\"45\" class=\"square light d7\" stroke=\"none\" fill=\"#ffce9e\" /><rect x=\"195\" y=\"60\" width=\"45\" height=\"45\" class=\"square dark e7\" stroke=\"none\" fill=\"#d18b47\" /><rect x=\"240\" y=\"60\" width=\"45\" height=\"45\" class=\"square light f7\" stroke=\"none\" fill=\"#ffce9e\" /><rect x=\"285\" y=\"60\" width=\"45\" height=\"45\" class=\"square dark g7\" stroke=\"none\" fill=\"#d18b47\" /><rect x=\"330\" y=\"60\" width=\"45\" height=\"45\" class=\"square light h7\" stroke=\"none\" fill=\"#ffce9e\" /><rect x=\"15\" y=\"15\" width=\"45\" height=\"45\" class=\"square light a8\" stroke=\"none\" fill=\"#ffce9e\" /><rect x=\"60\" y=\"15\" width=\"45\" height=\"45\" class=\"square dark b8\" stroke=\"none\" fill=\"#d18b47\" /><rect x=\"105\" y=\"15\" width=\"45\" height=\"45\" class=\"square light c8\" stroke=\"none\" fill=\"#ffce9e\" /><rect x=\"150\" y=\"15\" width=\"45\" height=\"45\" class=\"square dark d8\" stroke=\"none\" fill=\"#d18b47\" /><rect x=\"195\" y=\"15\" width=\"45\" height=\"45\" class=\"square light e8\" stroke=\"none\" fill=\"#ffce9e\" /><rect x=\"240\" y=\"15\" width=\"45\" height=\"45\" class=\"square dark f8\" stroke=\"none\" fill=\"#d18b47\" /><rect x=\"285\" y=\"15\" width=\"45\" height=\"45\" class=\"square light g8\" stroke=\"none\" fill=\"#ffce9e\" /><rect x=\"330\" y=\"15\" width=\"45\" height=\"45\" class=\"square dark h8\" stroke=\"none\" fill=\"#d18b47\" /><use href=\"#white-rook\" xlink:href=\"#white-rook\" transform=\"translate(15, 330)\" /><use href=\"#white-knight\" xlink:href=\"#white-knight\" transform=\"translate(60, 330)\" /><use href=\"#white-bishop\" xlink:href=\"#white-bishop\" transform=\"translate(105, 330)\" /><use href=\"#white-queen\" xlink:href=\"#white-queen\" transform=\"translate(150, 330)\" /><use href=\"#white-king\" xlink:href=\"#white-king\" transform=\"translate(195, 330)\" /><use href=\"#white-bishop\" xlink:href=\"#white-bishop\" transform=\"translate(240, 330)\" /><use href=\"#white-knight\" xlink:href=\"#white-knight\" transform=\"translate(285, 330)\" /><use href=\"#white-rook\" xlink:href=\"#white-rook\" transform=\"translate(330, 330)\" /><use href=\"#white-pawn\" xlink:href=\"#white-pawn\" transform=\"translate(15, 285)\" /><use href=\"#white-pawn\" xlink:href=\"#white-pawn\" transform=\"translate(60, 285)\" /><use href=\"#white-pawn\" xlink:href=\"#white-pawn\" transform=\"translate(105, 285)\" /><use href=\"#white-pawn\" xlink:href=\"#white-pawn\" transform=\"translate(150, 285)\" /><use href=\"#white-pawn\" xlink:href=\"#white-pawn\" transform=\"translate(240, 285)\" /><use href=\"#white-pawn\" xlink:href=\"#white-pawn\" transform=\"translate(285, 285)\" /><use href=\"#white-pawn\" xlink:href=\"#white-pawn\" transform=\"translate(330, 285)\" /><use href=\"#white-pawn\" xlink:href=\"#white-pawn\" transform=\"translate(195, 195)\" /><use href=\"#black-pawn\" xlink:href=\"#black-pawn\" transform=\"translate(15, 60)\" /><use href=\"#black-pawn\" xlink:href=\"#black-pawn\" transform=\"translate(60, 60)\" /><use href=\"#black-pawn\" xlink:href=\"#black-pawn\" transform=\"translate(105, 60)\" /><use href=\"#black-pawn\" xlink:href=\"#black-pawn\" transform=\"translate(150, 60)\" /><use href=\"#black-pawn\" xlink:href=\"#black-pawn\" transform=\"translate(195, 60)\" /><use href=\"#black-pawn\" xlink:href=\"#black-pawn\" transform=\"translate(240, 60)\" /><use href=\"#black-pawn\" xlink:href=\"#black-pawn\" transform=\"translate(285, 60)\" /><use href=\"#black-pawn\" xlink:href=\"#black-pawn\" transform=\"translate(330, 60)\" /><use href=\"#black-rook\" xlink:href=\"#black-rook\" transform=\"translate(15, 15)\" /><use href=\"#black-knight\" xlink:href=\"#black-knight\" transform=\"translate(60, 15)\" /><use href=\"#black-bishop\" xlink:href=\"#black-bishop\" transform=\"translate(105, 15)\" /><use href=\"#black-queen\" xlink:href=\"#black-queen\" transform=\"translate(150, 15)\" /><use href=\"#black-king\" xlink:href=\"#black-king\" transform=\"translate(195, 15)\" /><use href=\"#black-bishop\" xlink:href=\"#black-bishop\" transform=\"translate(240, 15)\" /><use href=\"#black-knight\" xlink:href=\"#black-knight\" transform=\"translate(285, 15)\" /><use href=\"#black-rook\" xlink:href=\"#black-rook\" transform=\"translate(330, 15)\" /></svg>"
      ],
      "text/plain": [
       "Board('rnbqkbnr/pppppppp/8/8/4P3/8/PPPP1PPP/RNBQKBNR b KQkq - 0 1')"
      ]
     },
     "execution_count": 43,
     "metadata": {},
     "output_type": "execute_result"
    }
   ],
   "source": [
    "board"
   ]
  },
  {
   "cell_type": "code",
   "execution_count": 23,
   "id": "684a4736-8941-4cc1-b12c-f4c1d069a83f",
   "metadata": {},
   "outputs": [],
   "source": [
    "chess_move = board.parse_san(\"e2e4\")"
   ]
  },
  {
   "cell_type": "code",
   "execution_count": 44,
   "id": "89f1e948-be35-406d-ba1e-79a87a5ac08d",
   "metadata": {},
   "outputs": [
    {
     "data": {
      "text/plain": [
       "[<Game at 0x10559b010 ('GreatGig' vs. 'hackattack', '????.??.??' at 'https://lichess.org/r0cYFhsy')>,\n",
       " <Game at 0x1070a57d0 ('kh447' vs. 'blueskyminer23', '????.??.??' at 'https://lichess.org/s7lpBNiu')>,\n",
       " <Game at 0x106769b50 ('Demis115' vs. 'churrosagogo', '????.??.??' at 'https://lichess.org/9CTXrWUB')>,\n",
       " <Game at 0x1067ecd90 ('indian_heat' vs. 'El_Baez', '????.??.??' at 'https://lichess.org/XnYt6RuD')>,\n",
       " <Game at 0x1067d3050 ('er_manue' vs. 'Sam2491', '????.??.??' at 'https://lichess.org/q2Kks1ch')>,\n",
       " <Game at 0x1067dc190 ('danielcuva' vs. 'skopje123', '????.??.??' at 'https://lichess.org/gkkX41i9')>,\n",
       " <Game at 0x1070d24d0 ('Rustlane' vs. 'board64', '????.??.??' at 'https://lichess.org/NQlGbVxQ')>,\n",
       " <Game at 0x1070d1290 ('damsy' vs. 'ANTItheist', '????.??.??' at 'https://lichess.org/coKOVNFJ')>,\n",
       " <Game at 0x1070d4450 ('deepfluke' vs. 'cougarsrule', '????.??.??' at 'https://lichess.org/8103m1yL')>,\n",
       " <Game at 0x1070dba10 ('blunder_maker' vs. 'sirozha', '????.??.??' at 'https://lichess.org/Zqj6QEaY')>,\n",
       " <Game at 0x10710f950 ('quimico10' vs. 'Kalimilembex', '????.??.??' at 'https://lichess.org/PKJgJmNe')>,\n",
       " <Game at 0x10711b5d0 ('imodoudou' vs. 'Ravp', '????.??.??' at 'https://lichess.org/TXxOMsHd')>,\n",
       " <Game at 0x107127b90 ('srmico' vs. 'gtChess04', '????.??.??' at 'https://lichess.org/EqykrF8y')>,\n",
       " <Game at 0x107138f50 ('Il-Bobby' vs. 'svenos', '????.??.??' at 'https://lichess.org/CC95TjTA')>,\n",
       " <Game at 0x107140190 ('camsam' vs. 'Diego2112', '????.??.??' at 'https://lichess.org/4RsKCDOH')>,\n",
       " <Game at 0x107141bd0 ('edumenoyo' vs. 'platito_de_lefa', '????.??.??' at 'https://lichess.org/INaN6RsB')>,\n",
       " <Game at 0x107154a10 ('zujovic' vs. 'chrissan', '????.??.??' at 'https://lichess.org/v1cdOH0J')>,\n",
       " <Game at 0x107163a50 ('Iplaypoorly' vs. 'Speed1', '????.??.??' at 'https://lichess.org/3wYtG6gV')>,\n",
       " <Game at 0x107166550 ('ilegalac' vs. 'palka', '????.??.??' at 'https://lichess.org/djTUa02b')>,\n",
       " <Game at 0x107173250 ('Diako-Caesar' vs. 'Marcello2015', '????.??.??' at 'https://lichess.org/KUSZmNb4')>,\n",
       " <Game at 0x1055ac750 ('serega25' vs. 'Shakhter', '????.??.??' at 'https://lichess.org/ZcRbcaU5')>,\n",
       " <Game at 0x1070a7290 ('mybe' vs. 'baudrillardismygod', '????.??.??' at 'https://lichess.org/yPXTrXTz')>,\n",
       " <Game at 0x1070837d0 ('Su_madre' vs. 'ZUMOSOL', '????.??.??' at 'https://lichess.org/wUSH46HK')>,\n",
       " <Game at 0x10679cc10 ('firattunaaa' vs. 'timbuckII', '????.??.??' at 'https://lichess.org/LXRkPIPP')>,\n",
       " <Game at 0x1067b7a50 ('IndioBrasileiro' vs. 'rjml', '????.??.??' at 'https://lichess.org/pCrUS3Rw')>,\n",
       " <Game at 0x1067f7910 ('Andre_Sky' vs. 'Nosaj', '????.??.??' at 'https://lichess.org/3sXs7qCe')>,\n",
       " <Game at 0x1070b42d0 ('Pervach' vs. 'ajedrefilia', '????.??.??' at 'https://lichess.org/jvDPocbF')>,\n",
       " <Game at 0x1067ad150 ('bronze_dragon' vs. 'MarkoLichess', '????.??.??' at 'https://lichess.org/anELLn8E')>,\n",
       " <Game at 0x1067ab1d0 ('alana75' vs. 'vitanovac', '????.??.??' at 'https://lichess.org/FPcsziCH')>,\n",
       " <Game at 0x10678ff90 ('TrotSLo' vs. 'dimavila', '????.??.??' at 'https://lichess.org/DU5wbvd3')>,\n",
       " <Game at 0x1061b0390 ('a7md2010' vs. 'dreypat', '????.??.??' at 'https://lichess.org/R4nN1RLz')>,\n",
       " <Game at 0x1061660d0 ('raking41' vs. 'mariofil', '????.??.??' at 'https://lichess.org/NsNWP2DM')>,\n",
       " <Game at 0x1061a6e10 ('hasaks' vs. 'pkrauzowicz', '????.??.??' at 'https://lichess.org/RTTNsbJZ')>,\n",
       " <Game at 0x1055d8690 ('izzet30' vs. 'asanghi', '????.??.??' at 'https://lichess.org/rAjUl3an')>,\n",
       " <Game at 0x10718efd0 ('juande_perea' vs. 'LeonIlyich', '????.??.??' at 'https://lichess.org/XlErypJh')>,\n",
       " <Game at 0x1071edb90 ('Cyxapuk' vs. 'Karpovisk', '????.??.??' at 'https://lichess.org/ipPBCX8r')>,\n",
       " <Game at 0x1071f1590 ('JOHN14-6' vs. 'naikus', '????.??.??' at 'https://lichess.org/G1w6AnpO')>,\n",
       " <Game at 0x106184150 ('Wiltemberg' vs. 'fenek', '????.??.??' at 'https://lichess.org/XwRMom71')>,\n",
       " <Game at 0x107214890 ('santastico' vs. 'blobbyfischer', '????.??.??' at 'https://lichess.org/PitWrtEU')>,\n",
       " <Game at 0x107221350 ('guevara' vs. 'Sacchina', '????.??.??' at 'https://lichess.org/gvPuvWZ1')>,\n",
       " <Game at 0x10722cf50 ('PaMaViGi' vs. 'pepi_1800', '????.??.??' at 'https://lichess.org/M7i7roSb')>,\n",
       " <Game at 0x107223b50 ('PiqueFain' vs. 'brunoctba32', '????.??.??' at 'https://lichess.org/hkUfPcCh')>,\n",
       " <Game at 0x10723e3d0 ('JUVENTUS1846' vs. 'jcnicolas', '????.??.??' at 'https://lichess.org/igzTZPj1')>,\n",
       " <Game at 0x1072484d0 ('chuecheng' vs. 'el_sheikh', '????.??.??' at 'https://lichess.org/1xTvYuAe')>,\n",
       " <Game at 0x1072529d0 ('Brainy1704' vs. 'coffeeNcream', '????.??.??' at 'https://lichess.org/YciQfFIc')>,\n",
       " <Game at 0x107252050 ('storalf' vs. 'kjhamster', '????.??.??' at 'https://lichess.org/UP5WVapU')>,\n",
       " <Game at 0x10725e410 ('fff1234567' vs. 'car_sales', '????.??.??' at 'https://lichess.org/ammqteRW')>,\n",
       " <Game at 0x10726a890 ('lukocius' vs. 'gioman', '????.??.??' at 'https://lichess.org/ClFXy2ve')>,\n",
       " <Game at 0x1072719d0 ('Gorbachess' vs. 'IronArchMage', '????.??.??' at 'https://lichess.org/XdyiSVoN')>,\n",
       " <Game at 0x10727fb50 ('NoPlayNoFun' vs. 'dmuino', '????.??.??' at 'https://lichess.org/yhClsIq1')>,\n",
       " <Game at 0x107288850 ('Betazoid' vs. 'punkvador', '????.??.??' at 'https://lichess.org/4UshYi7F')>,\n",
       " <Game at 0x1072a2b50 ('Sahinsah' vs. 'aerdna87', '????.??.??' at 'https://lichess.org/ug04NGje')>,\n",
       " <Game at 0x1072aa6d0 ('tierro67' vs. 'Harco', '????.??.??' at 'https://lichess.org/f44U7SGu')>,\n",
       " <Game at 0x1072b1610 ('wardr0be' vs. 'Gito', '????.??.??' at 'https://lichess.org/fIg19ht2')>,\n",
       " <Game at 0x1072b7290 ('angyx' vs. 'occhio', '????.??.??' at 'https://lichess.org/BKthsIVr')>,\n",
       " <Game at 0x1072c2490 ('Anmer' vs. 'elkin_brito7', '????.??.??' at 'https://lichess.org/hr995hxf')>,\n",
       " <Game at 0x1072cb750 ('victor_gabriel' vs. 'bzit86', '????.??.??' at 'https://lichess.org/UrM8YVhn')>,\n",
       " <Game at 0x1072d7790 ('Lambada17' vs. 'kick', '????.??.??' at 'https://lichess.org/58AWn1MI')>,\n",
       " <Game at 0x1072e7fd0 ('MrKit' vs. 'Fanatist', '????.??.??' at 'https://lichess.org/SckkMQd4')>,\n",
       " <Game at 0x1072ee110 ('yonyo30' vs. 'Biterolf', '????.??.??' at 'https://lichess.org/ihFGd9hT')>,\n",
       " <Game at 0x1072f5610 ('Evenflow' vs. 'Pasternak', '????.??.??' at 'https://lichess.org/aLh2Frtw')>,\n",
       " <Game at 0x107303f10 ('zkralla' vs. 'AkopyanErnest97', '????.??.??' at 'https://lichess.org/kThRpaKO')>,\n",
       " <Game at 0x10731b190 ('mynlan' vs. 'caporipens', '????.??.??' at 'https://lichess.org/eAmB6nuL')>,\n",
       " <Game at 0x107328f50 ('albchesone' vs. 'grobb', '????.??.??' at 'https://lichess.org/CICD1p3m')>,\n",
       " <Game at 0x107332910 ('AFreeID' vs. 'Jopius', '????.??.??' at 'https://lichess.org/HLTe5CfO')>,\n",
       " <Game at 0x107341050 ('Shankh' vs. 'moe1337', '????.??.??' at 'https://lichess.org/NHhFZfji')>,\n",
       " <Game at 0x10734bb90 ('ihsan43' vs. 'GustavoE', '????.??.??' at 'https://lichess.org/8Qqb0Prk')>,\n",
       " <Game at 0x10734bcd0 ('SCIENS' vs. 'le_batman', '????.??.??' at 'https://lichess.org/3nNb0SjD')>,\n",
       " <Game at 0x107356650 ('agustin2100' vs. 'Constantinople', '????.??.??' at 'https://lichess.org/HVuTZIK0')>,\n",
       " <Game at 0x10735e550 ('diskborste' vs. 'filobertito', '????.??.??' at 'https://lichess.org/BT19BXyf')>,\n",
       " <Game at 0x10736af90 ('AykutKarabacak' vs. 'feinsterschnitz', '????.??.??' at 'https://lichess.org/KYZM0fgt')>,\n",
       " <Game at 0x10737a2d0 ('NOR_Hotshot' vs. 'electron1', '????.??.??' at 'https://lichess.org/HrP6vqDg')>,\n",
       " <Game at 0x107380110 ('zoranastanisic' vs. 'valerioneto', '????.??.??' at 'https://lichess.org/OULIuDwn')>,\n",
       " <Game at 0x107380ad0 ('madri1enians' vs. 'Muthos', '????.??.??' at 'https://lichess.org/3so5MUVq')>,\n",
       " <Game at 0x10738bb90 ('titoark' vs. 'Avom', '????.??.??' at 'https://lichess.org/VJ9CTmY6')>,\n",
       " <Game at 0x107395250 ('thepaloou' vs. 'anto1959', '????.??.??' at 'https://lichess.org/AgVgD8oi')>,\n",
       " <Game at 0x1073a3050 ('Patex' vs. 'k0stet', '????.??.??' at 'https://lichess.org/WNdXXfoP')>,\n",
       " <Game at 0x1073a8390 ('Dexter_Ni' vs. 'TenAndOnly10', '????.??.??' at 'https://lichess.org/Sxcx1DFz')>,\n",
       " <Game at 0x1073baad0 ('lezned' vs. 'ivanzv', '????.??.??' at 'https://lichess.org/h4e8RgTn')>,\n",
       " <Game at 0x1073c7450 ('Newton_10' vs. 'nader10', '????.??.??' at 'https://lichess.org/lrAKLpnR')>,\n",
       " <Game at 0x1073d48d0 ('Schnotty' vs. 'V1962', '????.??.??' at 'https://lichess.org/eRRS46ae')>,\n",
       " <Game at 0x1073e2cd0 ('Serik2' vs. 'davidp1976', '????.??.??' at 'https://lichess.org/svxEbiOh')>,\n",
       " <Game at 0x1073f1650 ('rezo2015' vs. 'Jiggyfly', '????.??.??' at 'https://lichess.org/iDSZ3ccM')>,\n",
       " <Game at 0x1073f9cd0 ('M0RT' vs. 'varages', '????.??.??' at 'https://lichess.org/4uhTCdTz')>,\n",
       " <Game at 0x1074009d0 ('Qualunque' vs. 'Houdani', '????.??.??' at 'https://lichess.org/T6iPyWyW')>,\n",
       " <Game at 0x107403950 ('pawnupnusa' vs. 'Anyckin', '????.??.??' at 'https://lichess.org/6d5kZ25D')>,\n",
       " <Game at 0x107417c50 ('Jeremias1957' vs. 'krasmyas', '????.??.??' at 'https://lichess.org/5rcM5zKK')>,\n",
       " <Game at 0x10741d650 ('king-Ettore' vs. 'GlennGould', '????.??.??' at 'https://lichess.org/QN0j7GGX')>,\n",
       " <Game at 0x107425050 ('ARipacandida' vs. 'olekhine', '????.??.??' at 'https://lichess.org/IW1TB5gu')>,\n",
       " <Game at 0x107431610 ('Chespton' vs. 'IXS-210714', '????.??.??' at 'https://lichess.org/mcankUQG')>,\n",
       " <Game at 0x1074381d0 ('NicoBellitsj' vs. 'marounov', '????.??.??' at 'https://lichess.org/Fg5xgvAt')>,\n",
       " <Game at 0x10743add0 ('Gambit47' vs. 'Spiedo', '????.??.??' at 'https://lichess.org/v0CnFoWr')>,\n",
       " <Game at 0x1074457d0 ('luckyluciano' vs. 'draegerpair', '????.??.??' at 'https://lichess.org/aG5aDZLL')>,\n",
       " <Game at 0x107457d10 ('lmvd' vs. 'seejeys_youtube', '????.??.??' at 'https://lichess.org/MnlYZpaJ')>,\n",
       " <Game at 0x10745ba10 ('thiagozanoni' vs. 'PanopticonPlanet', '????.??.??' at 'https://lichess.org/sIJiwmob')>,\n",
       " <Game at 0x107466710 ('Ukiteru16' vs. 'PriusFide', '????.??.??' at 'https://lichess.org/XHT0zZaF')>,\n",
       " <Game at 0x107477710 ('sexbucket' vs. 'el-insaciable', '????.??.??' at 'https://lichess.org/SB2xb4R5')>,\n",
       " <Game at 0x10747e390 ('rechivaldo' vs. 'nasik1', '????.??.??' at 'https://lichess.org/EVpNeclJ')>,\n",
       " <Game at 0x107486210 ('esiiiii' vs. 'bnsattin1', '????.??.??' at 'https://lichess.org/r6RetICE')>,\n",
       " <Game at 0x107492250 ('Silahtar' vs. 'BearJr', '????.??.??' at 'https://lichess.org/DUf2oeor')>]"
      ]
     },
     "execution_count": 44,
     "metadata": {},
     "output_type": "execute_result"
    }
   ],
   "source": [
    "first_chunk"
   ]
  },
  {
   "cell_type": "code",
   "execution_count": null,
   "id": "1ddd34f8-f941-400d-9a9c-1ca6b909e87c",
   "metadata": {},
   "outputs": [],
   "source": [
    "class ChessCNN(nn.Module):\n",
    "    def __init__(self):\n",
    "        super(ChessCNN, self).__init__()\n",
    "        self.conv1 = nn.Conv2d(12, 64, kernel_size=3, padding=1)\n",
    "        self.conv2 = nn.Conv2d(64, 128, kernel_size=3, padding=1)\n",
    "        self.pool = nn.MaxPool2d(2, 2)\n",
    "        self.fc1 = nn.Linear(128 * 4 * 4, 1024)\n",
    "        self.fc2 = nn.Linear(1024, 4096)\n",
    "\n",
    "    def forward(self, x):\n",
    "        x = F.relu(self.conv1(x))\n",
    "        x = self.pool(F.relu(self.conv2(x)))\n",
    "        x = x.view(-1, 128 * 4 * 4)\n",
    "        x = F.relu(self.fc1(x))\n",
    "        x = self.fc2(x)\n",
    "        return F.softmax(x, dim=1)\n"
   ]
  },
  {
   "cell_type": "code",
   "execution_count": 47,
   "id": "d6e5e019-2e9e-48b9-937d-52906f131c2f",
   "metadata": {},
   "outputs": [],
   "source": [
    "# We do not add padding. This approach respects the inherent structure of the\n",
    "# chessboard and avoids introducing artificial concepts that are not present in\n",
    "# the actual game. It allows the model to focus on learning meaningful spatial\n",
    "# relationships and patterns that are genuinely indicative of chess strategies.\n",
    "\n",
    "# Since we do not add padding, our spatial dimensions will be squashed to\n",
    "# a 7x7 versus the original 8x8 layout\n",
    "conv_layer_1 = nn.Conv2d(12, 64, kernel_size=2, padding=0)"
   ]
  },
  {
   "cell_type": "code",
   "execution_count": null,
   "id": "ec1a494c-e3ca-4d0f-b50e-9aa4b1b9fcfd",
   "metadata": {},
   "outputs": [],
   "source": [
    "# We then apply a non-linearity which does not change the timensions of our 7x7x64 tensor\n",
    "relu1 = nn.ReLU()"
   ]
  },
  {
   "cell_type": "code",
   "execution_count": 48,
   "id": "36d3baf6-6f64-42de-ab38-4f34f2cdaeb0",
   "metadata": {},
   "outputs": [],
   "source": [
    "# In the second layer we have a bigger kernel size to capture higher-level patterns\n",
    "# and add padding of 1 to keep the spatial resolution from being further decreased\n",
    "conv_layer_2 = nn.Conv2d(64, 124, kernel_size = 3, padding=1)"
   ]
  },
  {
   "cell_type": "code",
   "execution_count": null,
   "id": "4deeffd7-cd44-494e-8368-e98e816995d9",
   "metadata": {},
   "outputs": [],
   "source": [
    "# We then apply a non-linearity which does not change the timensions of our 7x7x124 tensor\n",
    "relu2 = nn.ReLU()"
   ]
  },
  {
   "cell_type": "code",
   "execution_count": null,
   "id": "11952338-2ad8-4b67-8ca3-79921bf7510f",
   "metadata": {},
   "outputs": [],
   "source": []
  }
 ],
 "metadata": {
  "kernelspec": {
   "display_name": "Python 3 (ipykernel)",
   "language": "python",
   "name": "python3"
  },
  "language_info": {
   "codemirror_mode": {
    "name": "ipython",
    "version": 3
   },
   "file_extension": ".py",
   "mimetype": "text/x-python",
   "name": "python",
   "nbconvert_exporter": "python",
   "pygments_lexer": "ipython3",
   "version": "3.11.5"
  }
 },
 "nbformat": 4,
 "nbformat_minor": 5
}
