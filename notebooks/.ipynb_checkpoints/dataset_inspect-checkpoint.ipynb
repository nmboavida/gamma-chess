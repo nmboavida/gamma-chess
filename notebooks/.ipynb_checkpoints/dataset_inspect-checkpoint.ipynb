{
 "cells": [
  {
   "cell_type": "code",
   "execution_count": null,
   "id": "946e09ec-803e-4aaa-a3f8-1d91c0e84e78",
   "metadata": {},
   "outputs": [],
   "source": [
    "import chess.pgn\n",
    "import io\n",
    "from typing import List\n",
    "from chess.pgn import Game\n",
    "import numpy as np\n",
    "import torch.nn as nn\n",
    "import torch.nn.functional as F"
   ]
  },
  {
   "cell_type": "code",
   "execution_count": null,
   "id": "d7dbde1b-9eab-44c9-95d0-ac40d3608ae5",
   "metadata": {},
   "outputs": [],
   "source": [
    "def load_first_chunk_of_pgn(file_path, chunk_size) -> List[Game]:\n",
    "    \"\"\"\n",
    "    Loads the first chunk of games from a PGN file.\n",
    "    \n",
    "    :param file_path: Path to the PGN file.\n",
    "    :param chunk_size: Number of games to load in the chunk.\n",
    "    :return: List of games in the first chunk.\n",
    "    \"\"\"\n",
    "    games: List[Game] = []\n",
    "    with open(file_path) as pgn_file:\n",
    "        for _ in range(chunk_size):\n",
    "            try:\n",
    "                game = chess.pgn.read_game(pgn_file)\n",
    "                if game is None:  # End of file\n",
    "                    break\n",
    "                games.append(game)\n",
    "            except Exception as e:\n",
    "                print(f\"Error reading game: {e}\")\n",
    "                continue\n",
    "    return games"
   ]
  },
  {
   "cell_type": "code",
   "execution_count": 3,
   "id": "cebb8b40-c36f-4d58-aeb7-b01920109525",
   "metadata": {},
   "outputs": [
    {
     "name": "stdout",
     "output_type": "stream",
     "text": [
      "Loaded 100 games in the first chunk\n"
     ]
    }
   ],
   "source": [
    "# Define your file path and chunk size\n",
    "pgn_file_path = \"../dataset/lichess_db_standard_rated_2016-05.pgn\"\n",
    "chunk_size = 100  # for example, load the first 100 games\n",
    "\n",
    "# Load the first chunk\n",
    "first_chunk = load_first_chunk_of_pgn(pgn_file_path, chunk_size)\n",
    "print(f\"Loaded {len(first_chunk)} games in the first chunk\")\n"
   ]
  },
  {
   "cell_type": "code",
   "execution_count": null,
   "id": "01d59a06-63e7-4c21-9229-904fd04617ea",
   "metadata": {},
   "outputs": [],
   "source": [
    "game = first_chunk[0]"
   ]
  },
  {
   "cell_type": "code",
   "execution_count": null,
   "id": "fb776347-414e-48f2-bc4d-be55e337757c",
   "metadata": {},
   "outputs": [],
   "source": [
    "vars(game.headers)"
   ]
  },
  {
   "cell_type": "code",
   "execution_count": null,
   "id": "2b4ceb67-fada-4b59-ac7d-337555e611ea",
   "metadata": {},
   "outputs": [],
   "source": [
    "moves = [move.uci() for move in game.mainline_moves()]\n",
    "print(\"Moveas:\", \" \".join(moves))\n"
   ]
  },
  {
   "cell_type": "code",
   "execution_count": null,
   "id": "a4c66d2a-5b00-426d-9930-dbcfbc1e1964",
   "metadata": {},
   "outputs": [],
   "source": [
    "game.headers[\"Result\"]"
   ]
  },
  {
   "cell_type": "code",
   "execution_count": null,
   "id": "d9be03d5-f4e6-4369-836b-2c59d9ec1990",
   "metadata": {},
   "outputs": [],
   "source": [
    "moves = [move.uci() for move in game.mainline_moves()]\n",
    "print(\"Moveas:\", \" \".join(moves))"
   ]
  }
 ],
 "metadata": {
  "kernelspec": {
   "display_name": "Python 3 (ipykernel)",
   "language": "python",
   "name": "python3"
  },
  "language_info": {
   "codemirror_mode": {
    "name": "ipython",
    "version": 3
   },
   "file_extension": ".py",
   "mimetype": "text/x-python",
   "name": "python",
   "nbconvert_exporter": "python",
   "pygments_lexer": "ipython3",
   "version": "3.11.5"
  }
 },
 "nbformat": 4,
 "nbformat_minor": 5
}
