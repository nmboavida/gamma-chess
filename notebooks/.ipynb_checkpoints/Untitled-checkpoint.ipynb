{
 "cells": [
  {
   "cell_type": "code",
   "execution_count": 1,
   "id": "10bc34e3-7c07-44ab-bca1-0bf9cfd67d9d",
   "metadata": {},
   "outputs": [],
   "source": [
    "import sys\n",
    "#sys.path.append('gamma.dylib')\n",
    "sys.path.append('/Users/nuno/Documents/Programs/personal/ai/gamma-go/dylibs/gamma.dylib')"
   ]
  },
  {
   "cell_type": "code",
   "execution_count": 2,
   "id": "a9efad9d-8c43-4f2e-a01e-1633535ee465",
   "metadata": {},
   "outputs": [
    {
     "ename": "ModuleNotFoundError",
     "evalue": "No module named 'gamma_chess'",
     "output_type": "error",
     "traceback": [
      "\u001b[0;31m---------------------------------------------------------------------------\u001b[0m",
      "\u001b[0;31mModuleNotFoundError\u001b[0m                       Traceback (most recent call last)",
      "Cell \u001b[0;32mIn[2], line 1\u001b[0m\n\u001b[0;32m----> 1\u001b[0m \u001b[38;5;28;01mimport\u001b[39;00m \u001b[38;5;21;01mgamma_chess\u001b[39;00m\n",
      "\u001b[0;31mModuleNotFoundError\u001b[0m: No module named 'gamma_chess'"
     ]
    }
   ],
   "source": [
    "import gamma_chess"
   ]
  },
  {
   "cell_type": "code",
   "execution_count": 3,
   "id": "71416c70-0b38-4cec-9a20-ecac43874cfc",
   "metadata": {},
   "outputs": [
    {
     "data": {
      "text/plain": [
       "['/Users/nuno/Documents/Programs/personal/ai/gamma-go/notebooks',\n",
       " '/opt/homebrew/Cellar/python@3.11/3.11.5/Frameworks/Python.framework/Versions/3.11/lib/python311.zip',\n",
       " '/opt/homebrew/Cellar/python@3.11/3.11.5/Frameworks/Python.framework/Versions/3.11/lib/python3.11',\n",
       " '/opt/homebrew/Cellar/python@3.11/3.11.5/Frameworks/Python.framework/Versions/3.11/lib/python3.11/lib-dynload',\n",
       " '',\n",
       " '/Users/nuno/Library/Caches/pypoetry/virtualenvs/gammax-NkQe2Tz_-py3.11/lib/python3.11/site-packages',\n",
       " 'gamma.dylib']"
      ]
     },
     "execution_count": 3,
     "metadata": {},
     "output_type": "execute_result"
    }
   ],
   "source": [
    "sys.path"
   ]
  },
  {
   "cell_type": "code",
   "execution_count": null,
   "id": "8557d933-fe01-4e0b-a51f-088b0565ea5a",
   "metadata": {},
   "outputs": [],
   "source": []
  }
 ],
 "metadata": {
  "kernelspec": {
   "display_name": "Python 3 (ipykernel)",
   "language": "python",
   "name": "python3"
  },
  "language_info": {
   "codemirror_mode": {
    "name": "ipython",
    "version": 3
   },
   "file_extension": ".py",
   "mimetype": "text/x-python",
   "name": "python",
   "nbconvert_exporter": "python",
   "pygments_lexer": "ipython3",
   "version": "3.11.5"
  }
 },
 "nbformat": 4,
 "nbformat_minor": 5
}
