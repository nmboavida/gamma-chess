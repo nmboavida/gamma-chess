{
 "cells": [
  {
   "cell_type": "code",
   "execution_count": 3,
   "id": "10bc34e3-7c07-44ab-bca1-0bf9cfd67d9d",
   "metadata": {},
   "outputs": [],
   "source": [
    "import sys\n",
    "#sys.path.append('gamma.dylib')\n",
    "sys.path.append('/Users/nuno/Documents/Programs/personal/ai/gamma-go/libgamma_chess.so')\n",
    "#sys.path.append('/Users/nuno/Documents/Programs/personal/ai/gamma-go/dylibs/gamma_chess.so')"
   ]
  },
  {
   "cell_type": "code",
   "execution_count": 1,
   "id": "fb7b2f8d-fd6d-49b8-ad3b-177a30339df5",
   "metadata": {},
   "outputs": [
    {
     "name": "stderr",
     "output_type": "stream",
     "text": [
      "/Users/nuno/.pyenv/versions/pyo3/lib/python3.11/site-packages/torch/nn/modules/transformer.py:20: UserWarning: Failed to initialize NumPy: No module named 'numpy' (Triggered internally at /Users/runner/work/pytorch/pytorch/pytorch/torch/csrc/utils/tensor_numpy.cpp:84.)\n",
      "  device: torch.device = torch.device(torch._C._get_default_device()),  # torch.device('cpu'),\n"
     ]
    }
   ],
   "source": [
    "import gamma_chess"
   ]
  },
  {
   "cell_type": "code",
   "execution_count": 3,
   "id": "c388fb9a-6414-4fd5-9afb-7291ded97a5c",
   "metadata": {},
   "outputs": [],
   "source": [
    "from gamma_chess import PyDataset"
   ]
  },
  {
   "cell_type": "code",
   "execution_count": 2,
   "id": "d3e60cde-1b17-484a-a5ba-247117ca06dd",
   "metadata": {},
   "outputs": [
    {
     "data": {
      "text/plain": [
       "['PyDataset',\n",
       " '__all__',\n",
       " '__builtins__',\n",
       " '__cached__',\n",
       " '__doc__',\n",
       " '__file__',\n",
       " '__loader__',\n",
       " '__name__',\n",
       " '__package__',\n",
       " '__path__',\n",
       " '__spec__',\n",
       " 'gamma_chess']"
      ]
     },
     "execution_count": 2,
     "metadata": {},
     "output_type": "execute_result"
    }
   ],
   "source": [
    "dir(gamma_chess)"
   ]
  },
  {
   "cell_type": "code",
   "execution_count": 4,
   "id": "a8872c83-44e9-40bc-a6f4-dd50bc033bb2",
   "metadata": {},
   "outputs": [
    {
     "name": "stderr",
     "output_type": "stream",
     "text": [
      "thread '<unnamed>' panicked at src/model.rs:111:22:\n",
      "attempt to multiply with overflow\n",
      "note: run with `RUST_BACKTRACE=1` environment variable to display a backtrace\n"
     ]
    },
    {
     "ename": "PanicException",
     "evalue": "attempt to multiply with overflow",
     "output_type": "error",
     "traceback": [
      "\u001b[0;31m---------------------------------------------------------------------------\u001b[0m",
      "\u001b[0;31mPanicException\u001b[0m                            Traceback (most recent call last)",
      "Cell \u001b[0;32mIn[4], line 1\u001b[0m\n\u001b[0;32m----> 1\u001b[0m dataset \u001b[38;5;241m=\u001b[39m \u001b[43mPyDataset\u001b[49m\u001b[43m(\u001b[49m\u001b[38;5;124;43m\"\u001b[39;49m\u001b[38;5;124;43m/Users/nuno/Documents/Programs/personal/ai/gamma-go/dataset/chunks/0.pb\u001b[39;49m\u001b[38;5;124;43m\"\u001b[39;49m\u001b[43m)\u001b[49m\n",
      "\u001b[0;31mPanicException\u001b[0m: attempt to multiply with overflow"
     ]
    }
   ],
   "source": [
    "dataset = PyDataset(\"/Users/nuno/Documents/Programs/personal/ai/gamma-go/dataset/chunks/0.pb\")"
   ]
  },
  {
   "cell_type": "code",
   "execution_count": null,
   "id": "34217458-1e35-414d-bedc-896028d483e2",
   "metadata": {},
   "outputs": [],
   "source": [
    "!export LIBTORCH_USE_PYTORCH=1\n"
   ]
  },
  {
   "cell_type": "code",
   "execution_count": null,
   "id": "875049fb-8b0a-489e-a089-728578065383",
   "metadata": {},
   "outputs": [],
   "source": [
    "!echo $DYLD_LIBRARY_PATH"
   ]
  },
  {
   "cell_type": "code",
   "execution_count": null,
   "id": "6f7c11cf-2bba-4a97-91c9-fe81b2ce8265",
   "metadata": {},
   "outputs": [],
   "source": [
    "!export DYLD_LIBRARY_PATH=/Users/nuno/.pyenv/versions/3.11.7/envs/pyo3/lib/python3.11/site-packages/torch/lib:$DYLD_LIBRARY_PATH"
   ]
  },
  {
   "cell_type": "code",
   "execution_count": null,
   "id": "e23fc311-adc1-42b7-80be-f07cfab77fbb",
   "metadata": {},
   "outputs": [],
   "source": [
    "!export DYLD_LIBRARY_PATH=/Users/nuno/.pyenv/versions/3.11.7/envs/pyo3/lib/temp:$DYLD_LIBRARY_PATH"
   ]
  },
  {
   "cell_type": "code",
   "execution_count": null,
   "id": "4b9fcff7-76d3-418c-8509-dd37928ef362",
   "metadata": {},
   "outputs": [],
   "source": [
    "libtorch_python = ctypes.CDLL(ctypes.util.find_library('torch_python'))"
   ]
  },
  {
   "cell_type": "code",
   "execution_count": null,
   "id": "2cf6ae53-c352-4db1-a995-d275cbc22c81",
   "metadata": {},
   "outputs": [],
   "source": [
    "import ctypes\n",
    "\n",
    "mylib = ctypes.CDLL('/Users/nuno/Documents/Programs/personal/ai/gamma-go/notebooks/libgamma_chess.dylib')"
   ]
  },
  {
   "cell_type": "code",
   "execution_count": null,
   "id": "680deaf5-5cf2-4c9c-af7b-0a68863fda26",
   "metadata": {},
   "outputs": [],
   "source": [
    "mylib"
   ]
  },
  {
   "cell_type": "code",
   "execution_count": null,
   "id": "4588d116-f572-4b77-9fe1-6a9121b77bd1",
   "metadata": {},
   "outputs": [],
   "source": [
    "!otool -L /Users/nuno/Documents/Programs/personal/ai/gamma-go/dylibs/gamma_chess.dylib\n"
   ]
  },
  {
   "cell_type": "code",
   "execution_count": null,
   "id": "29da110c-2c96-4f8d-9347-828a1135d7f5",
   "metadata": {},
   "outputs": [],
   "source": [
    "!cp -f ../dylibs/gamma_chess.dylib gamma_chess.dylib"
   ]
  },
  {
   "cell_type": "code",
   "execution_count": null,
   "id": "a9efad9d-8c43-4f2e-a01e-1633535ee465",
   "metadata": {},
   "outputs": [],
   "source": [
    "import gamma_chess"
   ]
  },
  {
   "cell_type": "code",
   "execution_count": null,
   "id": "71416c70-0b38-4cec-9a20-ecac43874cfc",
   "metadata": {},
   "outputs": [],
   "source": [
    "sys.path"
   ]
  },
  {
   "cell_type": "code",
   "execution_count": null,
   "id": "f2bb2697-69e3-488f-abf6-2e24e1703d54",
   "metadata": {},
   "outputs": [],
   "source": [
    "import torch\n",
    "print(torch.__file__)"
   ]
  },
  {
   "cell_type": "code",
   "execution_count": null,
   "id": "057dd53e-fa72-4360-96ca-9a025acce517",
   "metadata": {},
   "outputs": [],
   "source": [
    "ls /Users/nuno/Library/Caches/pypoetry/virtualenvs/gammax-NkQe2Tz_-py3.11"
   ]
  },
  {
   "cell_type": "code",
   "execution_count": null,
   "id": "4666fc4a-57c1-40be-8ff0-8b159baca28b",
   "metadata": {},
   "outputs": [],
   "source": [
    "!nm -g /Users/nuno/Documents/Programs/personal/ai/gamma-go/dylibs/gamma_chess.dylib"
   ]
  },
  {
   "cell_type": "code",
   "execution_count": null,
   "id": "c03c171f-be51-47df-bb87-ee997052e4d5",
   "metadata": {},
   "outputs": [],
   "source": []
  }
 ],
 "metadata": {
  "kernelspec": {
   "display_name": "Pyo3",
   "language": "python",
   "name": "pyo3"
  },
  "language_info": {
   "codemirror_mode": {
    "name": "ipython",
    "version": 3
   },
   "file_extension": ".py",
   "mimetype": "text/x-python",
   "name": "python",
   "nbconvert_exporter": "python",
   "pygments_lexer": "ipython3",
   "version": "3.11.7"
  }
 },
 "nbformat": 4,
 "nbformat_minor": 5
}
